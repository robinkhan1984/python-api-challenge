{
 "cells": [
  {
   "cell_type": "markdown",
   "metadata": {},
   "source": [
    "# VacationPy\n",
    "----\n",
    "\n",
    "#### Note\n",
    "* Keep an eye on your API usage. Use https://developers.google.com/maps/reporting/gmp-reporting as reference for how to monitor your usage and billing.\n",
    "\n",
    "* Instructions have been included for each segment. You do not have to follow them exactly, but they are included to help you think through the steps."
   ]
  },
  {
   "cell_type": "code",
   "execution_count": 10,
   "metadata": {},
   "outputs": [],
   "source": [
    "# Dependencies and Setup\n",
    "import matplotlib.pyplot as plt\n",
    "import pandas as pd\n",
    "import numpy as np\n",
    "import requests\n",
    "import gmaps\n",
    "import os\n",
    "import pandas as pd\n",
    "\n",
    "# Import API key\n",
    "from api_keys import g_key"
   ]
  },
  {
   "cell_type": "markdown",
   "metadata": {},
   "source": [
    "### Store Part I results into DataFrame\n",
    "* Load the csv exported in Part I to a DataFrame"
   ]
  },
  {
   "cell_type": "code",
   "execution_count": 13,
   "metadata": {
    "scrolled": true
   },
   "outputs": [
    {
     "data": {
      "text/html": [
       "<div>\n",
       "<style scoped>\n",
       "    .dataframe tbody tr th:only-of-type {\n",
       "        vertical-align: middle;\n",
       "    }\n",
       "\n",
       "    .dataframe tbody tr th {\n",
       "        vertical-align: top;\n",
       "    }\n",
       "\n",
       "    .dataframe thead th {\n",
       "        text-align: right;\n",
       "    }\n",
       "</style>\n",
       "<table border=\"1\" class=\"dataframe\">\n",
       "  <thead>\n",
       "    <tr style=\"text-align: right;\">\n",
       "      <th></th>\n",
       "      <th>City</th>\n",
       "      <th>Lat</th>\n",
       "      <th>Lng</th>\n",
       "      <th>Max Temp</th>\n",
       "      <th>Humidity</th>\n",
       "      <th>Cloudiness</th>\n",
       "      <th>Wind Speed</th>\n",
       "      <th>Country</th>\n",
       "      <th>Date</th>\n",
       "    </tr>\n",
       "  </thead>\n",
       "  <tbody>\n",
       "    <tr>\n",
       "      <th>0</th>\n",
       "      <td>Arraial do Cabo</td>\n",
       "      <td>-22.97</td>\n",
       "      <td>-42.03</td>\n",
       "      <td>70.45</td>\n",
       "      <td>93</td>\n",
       "      <td>100</td>\n",
       "      <td>26.60</td>\n",
       "      <td>BR</td>\n",
       "      <td>1603583028</td>\n",
       "    </tr>\n",
       "    <tr>\n",
       "      <th>1</th>\n",
       "      <td>Dunedin</td>\n",
       "      <td>-45.87</td>\n",
       "      <td>170.50</td>\n",
       "      <td>71.01</td>\n",
       "      <td>41</td>\n",
       "      <td>100</td>\n",
       "      <td>13.00</td>\n",
       "      <td>NZ</td>\n",
       "      <td>1603582913</td>\n",
       "    </tr>\n",
       "    <tr>\n",
       "      <th>2</th>\n",
       "      <td>Zhoucheng</td>\n",
       "      <td>35.91</td>\n",
       "      <td>116.31</td>\n",
       "      <td>53.65</td>\n",
       "      <td>47</td>\n",
       "      <td>75</td>\n",
       "      <td>9.33</td>\n",
       "      <td>CN</td>\n",
       "      <td>1603583028</td>\n",
       "    </tr>\n",
       "    <tr>\n",
       "      <th>3</th>\n",
       "      <td>Cherskiy</td>\n",
       "      <td>68.75</td>\n",
       "      <td>161.30</td>\n",
       "      <td>18.36</td>\n",
       "      <td>94</td>\n",
       "      <td>4</td>\n",
       "      <td>4.68</td>\n",
       "      <td>RU</td>\n",
       "      <td>1603582826</td>\n",
       "    </tr>\n",
       "    <tr>\n",
       "      <th>4</th>\n",
       "      <td>Jamestown</td>\n",
       "      <td>42.10</td>\n",
       "      <td>-79.24</td>\n",
       "      <td>41.00</td>\n",
       "      <td>69</td>\n",
       "      <td>90</td>\n",
       "      <td>5.82</td>\n",
       "      <td>US</td>\n",
       "      <td>1603583029</td>\n",
       "    </tr>\n",
       "    <tr>\n",
       "      <th>...</th>\n",
       "      <td>...</td>\n",
       "      <td>...</td>\n",
       "      <td>...</td>\n",
       "      <td>...</td>\n",
       "      <td>...</td>\n",
       "      <td>...</td>\n",
       "      <td>...</td>\n",
       "      <td>...</td>\n",
       "      <td>...</td>\n",
       "    </tr>\n",
       "    <tr>\n",
       "      <th>578</th>\n",
       "      <td>Amga</td>\n",
       "      <td>60.90</td>\n",
       "      <td>131.96</td>\n",
       "      <td>12.42</td>\n",
       "      <td>95</td>\n",
       "      <td>71</td>\n",
       "      <td>2.01</td>\n",
       "      <td>RU</td>\n",
       "      <td>1603583135</td>\n",
       "    </tr>\n",
       "    <tr>\n",
       "      <th>579</th>\n",
       "      <td>Flagstaff</td>\n",
       "      <td>35.20</td>\n",
       "      <td>-111.65</td>\n",
       "      <td>64.99</td>\n",
       "      <td>33</td>\n",
       "      <td>1</td>\n",
       "      <td>18.34</td>\n",
       "      <td>US</td>\n",
       "      <td>1603583044</td>\n",
       "    </tr>\n",
       "    <tr>\n",
       "      <th>580</th>\n",
       "      <td>Taksimo</td>\n",
       "      <td>56.34</td>\n",
       "      <td>114.88</td>\n",
       "      <td>22.53</td>\n",
       "      <td>93</td>\n",
       "      <td>92</td>\n",
       "      <td>0.85</td>\n",
       "      <td>RU</td>\n",
       "      <td>1603582975</td>\n",
       "    </tr>\n",
       "    <tr>\n",
       "      <th>581</th>\n",
       "      <td>Āsmār</td>\n",
       "      <td>35.03</td>\n",
       "      <td>71.36</td>\n",
       "      <td>58.86</td>\n",
       "      <td>41</td>\n",
       "      <td>100</td>\n",
       "      <td>9.57</td>\n",
       "      <td>AF</td>\n",
       "      <td>1603583136</td>\n",
       "    </tr>\n",
       "    <tr>\n",
       "      <th>582</th>\n",
       "      <td>Pasni</td>\n",
       "      <td>25.26</td>\n",
       "      <td>63.47</td>\n",
       "      <td>74.43</td>\n",
       "      <td>33</td>\n",
       "      <td>0</td>\n",
       "      <td>28.21</td>\n",
       "      <td>PK</td>\n",
       "      <td>1603583136</td>\n",
       "    </tr>\n",
       "  </tbody>\n",
       "</table>\n",
       "<p>583 rows × 9 columns</p>\n",
       "</div>"
      ],
      "text/plain": [
       "                City    Lat     Lng  Max Temp  Humidity  Cloudiness  \\\n",
       "0    Arraial do Cabo -22.97  -42.03     70.45        93         100   \n",
       "1            Dunedin -45.87  170.50     71.01        41         100   \n",
       "2          Zhoucheng  35.91  116.31     53.65        47          75   \n",
       "3           Cherskiy  68.75  161.30     18.36        94           4   \n",
       "4          Jamestown  42.10  -79.24     41.00        69          90   \n",
       "..               ...    ...     ...       ...       ...         ...   \n",
       "578             Amga  60.90  131.96     12.42        95          71   \n",
       "579        Flagstaff  35.20 -111.65     64.99        33           1   \n",
       "580          Taksimo  56.34  114.88     22.53        93          92   \n",
       "581            Āsmār  35.03   71.36     58.86        41         100   \n",
       "582            Pasni  25.26   63.47     74.43        33           0   \n",
       "\n",
       "     Wind Speed Country        Date  \n",
       "0         26.60      BR  1603583028  \n",
       "1         13.00      NZ  1603582913  \n",
       "2          9.33      CN  1603583028  \n",
       "3          4.68      RU  1603582826  \n",
       "4          5.82      US  1603583029  \n",
       "..          ...     ...         ...  \n",
       "578        2.01      RU  1603583135  \n",
       "579       18.34      US  1603583044  \n",
       "580        0.85      RU  1603582975  \n",
       "581        9.57      AF  1603583136  \n",
       "582       28.21      PK  1603583136  \n",
       "\n",
       "[583 rows x 9 columns]"
      ]
     },
     "execution_count": 13,
     "metadata": {},
     "output_type": "execute_result"
    }
   ],
   "source": [
    "city_data = \"../WeatherPy/city_weather.csv\"\n",
    "data_file = pd.read_csv(city_data)\n",
    "data_file"
   ]
  },
  {
   "cell_type": "markdown",
   "metadata": {},
   "source": [
    "### Humidity Heatmap\n",
    "* Configure gmaps.\n",
    "* Use the Lat and Lng as locations and Humidity as the weight.\n",
    "* Add Heatmap layer to map."
   ]
  },
  {
   "cell_type": "code",
   "execution_count": 6,
   "metadata": {},
   "outputs": [
    {
     "data": {
      "application/vnd.jupyter.widget-view+json": {
       "model_id": "60986ce347c34e8d91f0d8fb5b7e8c9e",
       "version_major": 2,
       "version_minor": 0
      },
      "text/plain": [
       "Figure(layout=FigureLayout(height='420px'))"
      ]
     },
     "metadata": {},
     "output_type": "display_data"
    }
   ],
   "source": [
    "gmaps.configure(api_key='testing')\n",
    "\n",
    "fig = gmaps.figure()\n",
    "fig"
   ]
  },
  {
   "cell_type": "code",
   "execution_count": null,
   "metadata": {},
   "outputs": [],
   "source": []
  },
  {
   "cell_type": "markdown",
   "metadata": {},
   "source": [
    "### Create new DataFrame fitting weather criteria\n",
    "* Narrow down the cities to fit weather conditions.\n",
    "* Drop any rows will null values."
   ]
  },
  {
   "cell_type": "code",
   "execution_count": null,
   "metadata": {},
   "outputs": [],
   "source": []
  },
  {
   "cell_type": "markdown",
   "metadata": {},
   "source": [
    "### Hotel Map\n",
    "* Store into variable named `hotel_df`.\n",
    "* Add a \"Hotel Name\" column to the DataFrame.\n",
    "* Set parameters to search for hotels with 5000 meters.\n",
    "* Hit the Google Places API for each city's coordinates.\n",
    "* Store the first Hotel result into the DataFrame.\n",
    "* Plot markers on top of the heatmap."
   ]
  },
  {
   "cell_type": "code",
   "execution_count": null,
   "metadata": {},
   "outputs": [],
   "source": []
  },
  {
   "cell_type": "code",
   "execution_count": null,
   "metadata": {},
   "outputs": [],
   "source": []
  },
  {
   "cell_type": "code",
   "execution_count": null,
   "metadata": {},
   "outputs": [],
   "source": [
    "# NOTE: Do not change any of the code in this cell\n",
    "\n",
    "# Using the template add the hotel marks to the heatmap\n",
    "info_box_template = \"\"\"\n",
    "<dl>\n",
    "<dt>Name</dt><dd>{Hotel Name}</dd>\n",
    "<dt>City</dt><dd>{City}</dd>\n",
    "<dt>Country</dt><dd>{Country}</dd>\n",
    "</dl>\n",
    "\"\"\"\n",
    "# Store the DataFrame Row\n",
    "# NOTE: be sure to update with your DataFrame name\n",
    "hotel_info = [info_box_template.format(**row) for index, row in hotel_df.iterrows()]\n",
    "locations = hotel_df[[\"Lat\", \"Lng\"]]"
   ]
  },
  {
   "cell_type": "code",
   "execution_count": null,
   "metadata": {},
   "outputs": [],
   "source": [
    "# Add marker layer ontop of heat map\n",
    "\n",
    "\n",
    "# Display figure\n"
   ]
  },
  {
   "cell_type": "code",
   "execution_count": null,
   "metadata": {},
   "outputs": [],
   "source": []
  }
 ],
 "metadata": {
  "kernelspec": {
   "display_name": "Python [conda env:PythonData]",
   "language": "python",
   "name": "conda-env-PythonData-py"
  },
  "language_info": {
   "codemirror_mode": {
    "name": "ipython",
    "version": 3
   },
   "file_extension": ".py",
   "mimetype": "text/x-python",
   "name": "python",
   "nbconvert_exporter": "python",
   "pygments_lexer": "ipython3",
   "version": "3.6.10"
  },
  "latex_envs": {
   "LaTeX_envs_menu_present": true,
   "autoclose": false,
   "autocomplete": true,
   "bibliofile": "biblio.bib",
   "cite_by": "apalike",
   "current_citInitial": 1,
   "eqLabelWithNumbers": true,
   "eqNumInitial": 1,
   "hotkeys": {
    "equation": "Ctrl-E",
    "itemize": "Ctrl-I"
   },
   "labels_anchors": false,
   "latex_user_defs": false,
   "report_style_numbering": false,
   "user_envs_cfg": false
  }
 },
 "nbformat": 4,
 "nbformat_minor": 4
}

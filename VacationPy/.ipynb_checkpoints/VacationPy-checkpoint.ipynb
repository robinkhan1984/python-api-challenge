{
 "cells": [
  {
   "cell_type": "markdown",
   "metadata": {},
   "source": [
    "# VacationPy\n",
    "----\n",
    "\n",
    "#### Note\n",
    "* Keep an eye on your API usage. Use https://developers.google.com/maps/reporting/gmp-reporting as reference for how to monitor your usage and billing.\n",
    "\n",
    "* Instructions have been included for each segment. You do not have to follow them exactly, but they are included to help you think through the steps."
   ]
  },
  {
   "cell_type": "code",
   "execution_count": 20,
   "metadata": {},
   "outputs": [],
   "source": [
    "# Dependencies and Setup\n",
    "import matplotlib.pyplot as plt\n",
    "import pandas as pd\n",
    "import numpy as np\n",
    "import requests\n",
    "import gmaps\n",
    "import os\n",
    "import pandas as pd\n",
    "\n",
    "# Import API key\n",
    "from api_keys import g_key"
   ]
  },
  {
   "cell_type": "markdown",
   "metadata": {},
   "source": [
    "### Store Part I results into DataFrame\n",
    "* Load the csv exported in Part I to a DataFrame"
   ]
  },
  {
   "cell_type": "code",
   "execution_count": 21,
   "metadata": {
    "scrolled": true
   },
   "outputs": [
    {
     "data": {
      "text/html": [
       "<div>\n",
       "<style scoped>\n",
       "    .dataframe tbody tr th:only-of-type {\n",
       "        vertical-align: middle;\n",
       "    }\n",
       "\n",
       "    .dataframe tbody tr th {\n",
       "        vertical-align: top;\n",
       "    }\n",
       "\n",
       "    .dataframe thead th {\n",
       "        text-align: right;\n",
       "    }\n",
       "</style>\n",
       "<table border=\"1\" class=\"dataframe\">\n",
       "  <thead>\n",
       "    <tr style=\"text-align: right;\">\n",
       "      <th></th>\n",
       "      <th>City</th>\n",
       "      <th>Lat</th>\n",
       "      <th>Lng</th>\n",
       "      <th>Max Temp</th>\n",
       "      <th>Humidity</th>\n",
       "      <th>Cloudiness</th>\n",
       "      <th>Wind Speed</th>\n",
       "      <th>Country</th>\n",
       "      <th>Date</th>\n",
       "    </tr>\n",
       "  </thead>\n",
       "  <tbody>\n",
       "    <tr>\n",
       "      <th>0</th>\n",
       "      <td>Hermanus</td>\n",
       "      <td>-34.42</td>\n",
       "      <td>19.23</td>\n",
       "      <td>61.00</td>\n",
       "      <td>87</td>\n",
       "      <td>99</td>\n",
       "      <td>3.00</td>\n",
       "      <td>ZA</td>\n",
       "      <td>1603672968</td>\n",
       "    </tr>\n",
       "    <tr>\n",
       "      <th>1</th>\n",
       "      <td>Busselton</td>\n",
       "      <td>-33.65</td>\n",
       "      <td>115.33</td>\n",
       "      <td>75.00</td>\n",
       "      <td>46</td>\n",
       "      <td>0</td>\n",
       "      <td>12.46</td>\n",
       "      <td>AU</td>\n",
       "      <td>1603672968</td>\n",
       "    </tr>\n",
       "    <tr>\n",
       "      <th>2</th>\n",
       "      <td>Bluff</td>\n",
       "      <td>-46.60</td>\n",
       "      <td>168.33</td>\n",
       "      <td>54.00</td>\n",
       "      <td>59</td>\n",
       "      <td>73</td>\n",
       "      <td>8.01</td>\n",
       "      <td>NZ</td>\n",
       "      <td>1603672494</td>\n",
       "    </tr>\n",
       "    <tr>\n",
       "      <th>3</th>\n",
       "      <td>Vaini</td>\n",
       "      <td>-21.20</td>\n",
       "      <td>-175.20</td>\n",
       "      <td>73.40</td>\n",
       "      <td>94</td>\n",
       "      <td>90</td>\n",
       "      <td>13.87</td>\n",
       "      <td>TO</td>\n",
       "      <td>1603672471</td>\n",
       "    </tr>\n",
       "    <tr>\n",
       "      <th>4</th>\n",
       "      <td>Kapaa</td>\n",
       "      <td>22.08</td>\n",
       "      <td>-159.32</td>\n",
       "      <td>82.99</td>\n",
       "      <td>74</td>\n",
       "      <td>40</td>\n",
       "      <td>9.17</td>\n",
       "      <td>US</td>\n",
       "      <td>1603672489</td>\n",
       "    </tr>\n",
       "    <tr>\n",
       "      <th>...</th>\n",
       "      <td>...</td>\n",
       "      <td>...</td>\n",
       "      <td>...</td>\n",
       "      <td>...</td>\n",
       "      <td>...</td>\n",
       "      <td>...</td>\n",
       "      <td>...</td>\n",
       "      <td>...</td>\n",
       "      <td>...</td>\n",
       "    </tr>\n",
       "    <tr>\n",
       "      <th>573</th>\n",
       "      <td>Surgut</td>\n",
       "      <td>61.25</td>\n",
       "      <td>73.42</td>\n",
       "      <td>26.60</td>\n",
       "      <td>100</td>\n",
       "      <td>90</td>\n",
       "      <td>11.18</td>\n",
       "      <td>RU</td>\n",
       "      <td>1603673059</td>\n",
       "    </tr>\n",
       "    <tr>\n",
       "      <th>574</th>\n",
       "      <td>Mugan</td>\n",
       "      <td>35.94</td>\n",
       "      <td>101.38</td>\n",
       "      <td>39.61</td>\n",
       "      <td>65</td>\n",
       "      <td>87</td>\n",
       "      <td>6.06</td>\n",
       "      <td>CN</td>\n",
       "      <td>1603673059</td>\n",
       "    </tr>\n",
       "    <tr>\n",
       "      <th>575</th>\n",
       "      <td>Kurchum</td>\n",
       "      <td>48.57</td>\n",
       "      <td>83.65</td>\n",
       "      <td>35.38</td>\n",
       "      <td>72</td>\n",
       "      <td>97</td>\n",
       "      <td>9.10</td>\n",
       "      <td>KZ</td>\n",
       "      <td>1603673059</td>\n",
       "    </tr>\n",
       "    <tr>\n",
       "      <th>576</th>\n",
       "      <td>Maniitsoq</td>\n",
       "      <td>65.42</td>\n",
       "      <td>-52.90</td>\n",
       "      <td>28.13</td>\n",
       "      <td>79</td>\n",
       "      <td>100</td>\n",
       "      <td>8.28</td>\n",
       "      <td>GL</td>\n",
       "      <td>1603673059</td>\n",
       "    </tr>\n",
       "    <tr>\n",
       "      <th>577</th>\n",
       "      <td>Tongren</td>\n",
       "      <td>27.72</td>\n",
       "      <td>109.19</td>\n",
       "      <td>59.74</td>\n",
       "      <td>86</td>\n",
       "      <td>100</td>\n",
       "      <td>0.72</td>\n",
       "      <td>CN</td>\n",
       "      <td>1603673059</td>\n",
       "    </tr>\n",
       "  </tbody>\n",
       "</table>\n",
       "<p>578 rows × 9 columns</p>\n",
       "</div>"
      ],
      "text/plain": [
       "          City    Lat     Lng  Max Temp  Humidity  Cloudiness  Wind Speed  \\\n",
       "0     Hermanus -34.42   19.23     61.00        87          99        3.00   \n",
       "1    Busselton -33.65  115.33     75.00        46           0       12.46   \n",
       "2        Bluff -46.60  168.33     54.00        59          73        8.01   \n",
       "3        Vaini -21.20 -175.20     73.40        94          90       13.87   \n",
       "4        Kapaa  22.08 -159.32     82.99        74          40        9.17   \n",
       "..         ...    ...     ...       ...       ...         ...         ...   \n",
       "573     Surgut  61.25   73.42     26.60       100          90       11.18   \n",
       "574      Mugan  35.94  101.38     39.61        65          87        6.06   \n",
       "575    Kurchum  48.57   83.65     35.38        72          97        9.10   \n",
       "576  Maniitsoq  65.42  -52.90     28.13        79         100        8.28   \n",
       "577    Tongren  27.72  109.19     59.74        86         100        0.72   \n",
       "\n",
       "    Country        Date  \n",
       "0        ZA  1603672968  \n",
       "1        AU  1603672968  \n",
       "2        NZ  1603672494  \n",
       "3        TO  1603672471  \n",
       "4        US  1603672489  \n",
       "..      ...         ...  \n",
       "573      RU  1603673059  \n",
       "574      CN  1603673059  \n",
       "575      KZ  1603673059  \n",
       "576      GL  1603673059  \n",
       "577      CN  1603673059  \n",
       "\n",
       "[578 rows x 9 columns]"
      ]
     },
     "execution_count": 21,
     "metadata": {},
     "output_type": "execute_result"
    }
   ],
   "source": [
    "city_data = \"../WeatherPy/city_weather.csv\"\n",
    "data_file = pd.read_csv(city_data)\n",
    "data_file"
   ]
  },
  {
   "cell_type": "markdown",
   "metadata": {},
   "source": [
    "### Humidity Heatmap\n",
    "* Configure gmaps.\n",
    "* Use the Lat and Lng as locations and Humidity as the weight.\n",
    "* Add Heatmap layer to map."
   ]
  },
  {
   "cell_type": "code",
   "execution_count": 22,
   "metadata": {
    "scrolled": true
   },
   "outputs": [
    {
     "data": {
      "application/vnd.jupyter.widget-view+json": {
       "model_id": "7607eeea49c24041a8b9c96e54f47f0c",
       "version_major": 2,
       "version_minor": 0
      },
      "text/plain": [
       "Figure(layout=FigureLayout(height='420px'))"
      ]
     },
     "metadata": {},
     "output_type": "display_data"
    }
   ],
   "source": [
    "gmaps.configure(api_key='')\n",
    "\n",
    "locations = data_file[['Lat', 'Lng']]\n",
    "weights = data_file['Humidity']\n",
    "heat_map = gmaps.figure()\n",
    "fig.add_layer(gmaps.heatmap_layer(locations, weights=weights))\n",
    "fig"
   ]
  },
  {
   "cell_type": "code",
   "execution_count": null,
   "metadata": {},
   "outputs": [],
   "source": []
  },
  {
   "cell_type": "markdown",
   "metadata": {},
   "source": [
    "### Create new DataFrame fitting weather criteria\n",
    "* Narrow down the cities to fit weather conditions.\n",
    "* Drop any rows will null values."
   ]
  },
  {
   "cell_type": "code",
   "execution_count": 35,
   "metadata": {
    "scrolled": true
   },
   "outputs": [
    {
     "data": {
      "text/plain": [
       "City          53\n",
       "Lat           53\n",
       "Lng           53\n",
       "Max Temp      53\n",
       "Humidity      53\n",
       "Cloudiness    53\n",
       "Wind Speed    53\n",
       "Country       52\n",
       "Date          53\n",
       "dtype: int64"
      ]
     },
     "execution_count": 35,
     "metadata": {},
     "output_type": "execute_result"
    }
   ],
   "source": [
    "temp_first = data_file.loc[(data_file[\"Max Temp\"] >= 68) & (data_file[\"Max Temp\"] < 80), :]\n",
    "wind_second = temp_first.loc[temp_first[\"Wind Speed\"] < 10, :]\n",
    "humidity_third = wind_second.loc[(wind_second[\"Humidity\"] >= 30) & (wind_second[\"Humidity\"] < 80), :]\n"
   ]
  },
  {
   "cell_type": "markdown",
   "metadata": {},
   "source": [
    "### Hotel Map\n",
    "* Store into variable named `hotel_df`.\n",
    "* Add a \"Hotel Name\" column to the DataFrame.\n",
    "* Set parameters to search for hotels with 5000 meters.\n",
    "* Hit the Google Places API for each city's coordinates.\n",
    "* Store the first Hotel result into the DataFrame.\n",
    "* Plot markers on top of the heatmap."
   ]
  },
  {
   "cell_type": "code",
   "execution_count": null,
   "metadata": {},
   "outputs": [],
   "source": []
  },
  {
   "cell_type": "code",
   "execution_count": null,
   "metadata": {},
   "outputs": [],
   "source": []
  },
  {
   "cell_type": "code",
   "execution_count": null,
   "metadata": {},
   "outputs": [],
   "source": [
    "# NOTE: Do not change any of the code in this cell\n",
    "\n",
    "# Using the template add the hotel marks to the heatmap\n",
    "info_box_template = \"\"\"\n",
    "<dl>\n",
    "<dt>Name</dt><dd>{Hotel Name}</dd>\n",
    "<dt>City</dt><dd>{City}</dd>\n",
    "<dt>Country</dt><dd>{Country}</dd>\n",
    "</dl>\n",
    "\"\"\"\n",
    "# Store the DataFrame Row\n",
    "# NOTE: be sure to update with your DataFrame name\n",
    "hotel_info = [info_box_template.format(**row) for index, row in hotel_df.iterrows()]\n",
    "locations = hotel_df[[\"Lat\", \"Lng\"]]"
   ]
  },
  {
   "cell_type": "code",
   "execution_count": null,
   "metadata": {},
   "outputs": [],
   "source": [
    "# Add marker layer ontop of heat map\n",
    "\n",
    "\n",
    "# Display figure\n"
   ]
  },
  {
   "cell_type": "code",
   "execution_count": null,
   "metadata": {},
   "outputs": [],
   "source": []
  }
 ],
 "metadata": {
  "kernelspec": {
   "display_name": "Python [conda env:PythonData]",
   "language": "python",
   "name": "conda-env-PythonData-py"
  },
  "language_info": {
   "codemirror_mode": {
    "name": "ipython",
    "version": 3
   },
   "file_extension": ".py",
   "mimetype": "text/x-python",
   "name": "python",
   "nbconvert_exporter": "python",
   "pygments_lexer": "ipython3",
   "version": "3.6.10"
  },
  "latex_envs": {
   "LaTeX_envs_menu_present": true,
   "autoclose": false,
   "autocomplete": true,
   "bibliofile": "biblio.bib",
   "cite_by": "apalike",
   "current_citInitial": 1,
   "eqLabelWithNumbers": true,
   "eqNumInitial": 1,
   "hotkeys": {
    "equation": "Ctrl-E",
    "itemize": "Ctrl-I"
   },
   "labels_anchors": false,
   "latex_user_defs": false,
   "report_style_numbering": false,
   "user_envs_cfg": false
  }
 },
 "nbformat": 4,
 "nbformat_minor": 4
}

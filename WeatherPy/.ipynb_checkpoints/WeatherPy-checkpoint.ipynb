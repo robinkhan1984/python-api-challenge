{
 "cells": [
  {
   "cell_type": "markdown",
   "metadata": {},
   "source": [
    "# WeatherPy\n",
    "----\n",
    "\n",
    "#### Note\n",
    "* Instructions have been included for each segment. You do not have to follow them exactly, but they are included to help you think through the steps."
   ]
  },
  {
   "cell_type": "code",
   "execution_count": 5,
   "metadata": {
    "scrolled": true
   },
   "outputs": [],
   "source": [
    "# Dependencies and Setup\n",
    "import matplotlib.pyplot as plt\n",
    "import pandas as pd\n",
    "import numpy as np\n",
    "import requests\n",
    "import time\n",
    "import json\n",
    "from scipy.stats import linregress\n",
    "\n",
    "# Import API key\n",
    "from api_keys import weather_api_key\n",
    "\n",
    "# Incorporated citipy to determine city based on latitude and longitude\n",
    "from citipy import citipy\n",
    "\n",
    "# Output File (CSV)\n",
    "output_data_file = \"output_data/cities.csv\"\n",
    "\n",
    "# Range of latitudes and longitudes\n",
    "lat_range = (-90, 90)\n",
    "lng_range = (-180, 180)\n",
    "\n",
    "# Config info\n",
    "url = \"http://api.openweathermap.org/data/2.5/weather?\"\n",
    "units = \"imperial\"\n",
    "query_url = f\"{url}appid={weather_api_key}&units={units}&q=\""
   ]
  },
  {
   "cell_type": "code",
   "execution_count": 2,
   "metadata": {},
   "outputs": [
    {
     "name": "stdout",
     "output_type": "stream",
     "text": [
      "http://api.openweathermap.org/data/2.5/weather?appid=b62fad0a26da7e8772264ef3cb68b5a0&units=imperial&q=\n"
     ]
    }
   ],
   "source": [
    "print(query_url)\n"
   ]
  },
  {
   "cell_type": "markdown",
   "metadata": {},
   "source": [
    "## Generate Cities List"
   ]
  },
  {
   "cell_type": "code",
   "execution_count": 6,
   "metadata": {
    "scrolled": true
   },
   "outputs": [
    {
     "data": {
      "text/plain": [
       "584"
      ]
     },
     "execution_count": 6,
     "metadata": {},
     "output_type": "execute_result"
    }
   ],
   "source": [
    "# List for holding lat_lngs and cities\n",
    "lat_lngs = []\n",
    "cities = []\n",
    "\n",
    "# Create a set of random lat and lng combinations\n",
    "lats = np.random.uniform(lat_range[0], lat_range[1], size=1500)\n",
    "lngs = np.random.uniform(lng_range[0], lng_range[1], size=1500)\n",
    "lat_lngs = zip(lats, lngs)\n",
    "\n",
    "# Identify nearest city for each lat, lng combination\n",
    "for lat_lng in lat_lngs:\n",
    "    city = citipy.nearest_city(lat_lng[0], lat_lng[1]).city_name\n",
    "    \n",
    "    # If the city is unique, then add it to a our cities list\n",
    "    if city not in cities:\n",
    "        cities.append(city)\n",
    "\n",
    "len(cities)"
   ]
  },
  {
   "cell_type": "markdown",
   "metadata": {},
   "source": [
    "### Perform API Calls\n",
    "* Perform a weather check on each city using a series of successive API calls.\n",
    "* Include a print log of each city as it'sbeing processed (with the city number and city name).\n"
   ]
  },
  {
   "cell_type": "code",
   "execution_count": 7,
   "metadata": {
    "scrolled": false
   },
   "outputs": [
    {
     "name": "stdout",
     "output_type": "stream",
     "text": [
      "Pulling data for 1 | busselton\n",
      "Pulling data for 2 | calbuco\n",
      "Pulling data for 3 | naryan-mar\n",
      "Pulling data for 4 | qaqortoq\n",
      "Pulling data for 5 | cape town\n",
      "Pulling data for 6 | port alfred\n",
      "Pulling data for 7 | buenos aires\n",
      "Pulling data for 8 | butaritari\n",
      "Pulling data for 9 | barrow\n",
      "Pulling data for 10 | flinders\n",
      "Pulling data for 11 | portland\n",
      "Pulling data for 12 | lexington park\n",
      "Pulling data for 13 | hithadhoo\n",
      "Pulling data for 14 | hobart\n",
      "Pulling data for 15 | gunjur\n",
      "Pulling data for 16 | paamiut\n",
      "Pulling data for 17 | san jose de guanipa\n",
      "Pulling data for 18 | jacmel\n",
      "Pulling data for 19 | bambous virieux\n",
      "Pulling data for 20 | matagami\n",
      "Pulling data for 21 | vao\n",
      "Pulling data for 22 | lucea\n",
      "Pulling data for 23 | pangnirtung\n",
      "Pulling data for 24 | ponta do sol\n",
      "Pulling data for 25 | oriximina\n",
      "Pulling data for 26 | tuktoyaktuk\n",
      "Pulling data for 27 | iqaluit\n",
      "Pulling data for 28 | victoria\n",
      "Pulling data for 29 | bandrele\n",
      "Pulling data for 30 | laguna\n",
      "Pulling data for 31 | ushuaia\n",
      "Pulling data for 32 | katsuura\n",
      "Pulling data for 33 | carnarvon\n",
      "Pulling data for 34 | omboue\n",
      "Pulling data for 35 | georgetown\n",
      "Pulling data for 36 | kahului\n",
      "Pulling data for 37 | regina\n",
      "Pulling data for 38 | saldanha\n",
      "Pulling data for 39 | sola\n",
      "Pulling data for 40 | saint-augustin\n",
      "Pulling data for 41 | mataura\n",
      "Pulling data for 42 | ust-nera\n",
      "Pulling data for 43 | ust-koksa\n",
      "Pulling data for 44 | geraldton\n",
      "Pulling data for 45 | qaanaaq\n",
      "Pulling data for 46 | adrar\n",
      "Pulling data for 47 | yellowknife\n",
      "Pulling data for 48 | bilibino\n",
      "Pulling data for 49 | constitucion\n",
      "Pulling data for 50 | jalu\n",
      "Pulling data for 51 | nizhneyansk\n",
      "data not found\n",
      "Pulling data for 52 | bredasdorp\n",
      "Pulling data for 53 | hermanus\n",
      "Pulling data for 54 | port lincoln\n",
      "Pulling data for 55 | qasigiannguit\n",
      "Pulling data for 56 | genhe\n",
      "Pulling data for 57 | sao felix do xingu\n",
      "Pulling data for 58 | east london\n",
      "Pulling data for 59 | new norfolk\n",
      "Pulling data for 60 | tilichiki\n",
      "Pulling data for 61 | port elizabeth\n",
      "Pulling data for 62 | klaksvik\n",
      "Pulling data for 63 | attawapiskat\n",
      "data not found\n",
      "Pulling data for 64 | poum\n",
      "Pulling data for 65 | thinadhoo\n",
      "Pulling data for 66 | vaini\n",
      "Pulling data for 67 | antalaha\n",
      "Pulling data for 68 | russell\n",
      "Pulling data for 69 | manono\n",
      "Pulling data for 70 | illoqqortoormiut\n",
      "data not found\n",
      "Pulling data for 71 | jamestown\n",
      "Pulling data for 72 | seymchan\n",
      "Pulling data for 73 | albany\n",
      "Pulling data for 74 | copiapo\n",
      "Pulling data for 75 | mehamn\n",
      "Pulling data for 76 | fairbanks\n",
      "Pulling data for 77 | kodiak\n",
      "Pulling data for 78 | bluff\n",
      "Pulling data for 79 | port macquarie\n",
      "Pulling data for 80 | gat\n",
      "Pulling data for 81 | ribeira grande\n",
      "Pulling data for 82 | avarua\n",
      "Pulling data for 83 | ostrovnoy\n",
      "Pulling data for 84 | dikson\n",
      "Pulling data for 85 | puerto ayora\n",
      "Pulling data for 86 | moose factory\n",
      "Pulling data for 87 | xiongzhou\n",
      "Pulling data for 88 | rikitea\n",
      "Pulling data for 89 | marawi\n",
      "Pulling data for 90 | aklavik\n",
      "Pulling data for 91 | riyadh\n",
      "Pulling data for 92 | pacific grove\n",
      "Pulling data for 93 | thompson\n",
      "Pulling data for 94 | erdaojiang\n",
      "Pulling data for 95 | atuona\n",
      "Pulling data for 96 | kuryk\n",
      "Pulling data for 97 | takoradi\n",
      "Pulling data for 98 | hoopstad\n",
      "Pulling data for 99 | ziro\n",
      "Pulling data for 100 | tiksi\n",
      "Pulling data for 101 | deputatskiy\n",
      "Pulling data for 102 | pangkalanbuun\n",
      "Pulling data for 103 | talnakh\n",
      "Pulling data for 104 | pandan\n",
      "Pulling data for 105 | esso\n",
      "Pulling data for 106 | port hedland\n",
      "Pulling data for 107 | oltu\n",
      "Pulling data for 108 | saint-georges\n",
      "Pulling data for 109 | mikhaylov\n",
      "Pulling data for 110 | hilo\n",
      "Pulling data for 111 | bengkulu\n",
      "Pulling data for 112 | guca\n",
      "Pulling data for 113 | cidreira\n",
      "Pulling data for 114 | great falls\n",
      "Pulling data for 115 | pingyi\n",
      "Pulling data for 116 | barentsburg\n",
      "data not found\n",
      "Pulling data for 117 | punta arenas\n",
      "Pulling data for 118 | ariquemes\n",
      "Pulling data for 119 | tuatapere\n",
      "Pulling data for 120 | lucapa\n",
      "Pulling data for 121 | bourail\n",
      "Pulling data for 122 | airai\n",
      "Pulling data for 123 | mys shmidta\n",
      "data not found\n",
      "Pulling data for 124 | komatipoort\n",
      "Pulling data for 125 | padang\n",
      "Pulling data for 126 | naze\n",
      "Pulling data for 127 | taolanaro\n",
      "data not found\n",
      "Pulling data for 128 | caravelas\n",
      "Pulling data for 129 | esperance\n",
      "Pulling data for 130 | chokurdakh\n",
      "Pulling data for 131 | louisbourg\n",
      "data not found\n",
      "Pulling data for 132 | cherskiy\n",
      "Pulling data for 133 | rincon\n",
      "Pulling data for 134 | fushun\n",
      "Pulling data for 135 | vardo\n",
      "Pulling data for 136 | karamay\n",
      "data not found\n",
      "Pulling data for 137 | ajaccio\n",
      "Pulling data for 138 | el badari\n",
      "data not found\n",
      "Pulling data for 139 | hamilton\n",
      "Pulling data for 140 | aswan\n",
      "Pulling data for 141 | terrace bay\n",
      "Pulling data for 142 | kapaa\n",
      "Pulling data for 143 | northam\n",
      "Pulling data for 144 | sorong\n",
      "Pulling data for 145 | rabo de peixe\n",
      "Pulling data for 146 | bandarban\n",
      "Pulling data for 147 | castro\n",
      "Pulling data for 148 | sanmenxia\n",
      "Pulling data for 149 | lebu\n",
      "Pulling data for 150 | clyde river\n",
      "Pulling data for 151 | hami\n",
      "Pulling data for 152 | dingle\n",
      "Pulling data for 153 | tasiilaq\n",
      "Pulling data for 154 | dowa\n",
      "Pulling data for 155 | hokitika\n",
      "Pulling data for 156 | zabaykalsk\n",
      "Pulling data for 157 | shimoda\n",
      "Pulling data for 158 | ilulissat\n",
      "Pulling data for 159 | rio grande\n",
      "Pulling data for 160 | leshukonskoye\n",
      "Pulling data for 161 | kavieng\n",
      "Pulling data for 162 | mbaiki\n",
      "Pulling data for 163 | arraial do cabo\n",
      "Pulling data for 164 | nzega\n",
      "Pulling data for 165 | avera\n",
      "Pulling data for 166 | beyneu\n",
      "Pulling data for 167 | maloye verevo\n",
      "Pulling data for 168 | bilma\n",
      "Pulling data for 169 | nanortalik\n",
      "Pulling data for 170 | mahebourg\n",
      "Pulling data for 171 | mount isa\n",
      "Pulling data for 172 | bethel\n",
      "Pulling data for 173 | gergebil\n",
      "Pulling data for 174 | kabare\n",
      "Pulling data for 175 | laizhou\n",
      "Pulling data for 176 | joplin\n",
      "Pulling data for 177 | hervey bay\n",
      "Pulling data for 178 | grindavik\n",
      "Pulling data for 179 | jawhar\n",
      "Pulling data for 180 | bardiyah\n",
      "Pulling data for 181 | dakoro\n",
      "Pulling data for 182 | grimshaw\n",
      "Pulling data for 183 | namatanai\n",
      "Pulling data for 184 | faanui\n",
      "Pulling data for 185 | pevek\n",
      "Pulling data for 186 | pisco\n",
      "Pulling data for 187 | lingao\n",
      "Pulling data for 188 | torbay\n",
      "Pulling data for 189 | warrington\n",
      "Pulling data for 190 | ola\n",
      "Pulling data for 191 | kadykchan\n",
      "data not found\n",
      "Pulling data for 192 | kruisfontein\n",
      "Pulling data for 193 | troitskoye\n",
      "Pulling data for 194 | tsuruoka\n",
      "Pulling data for 195 | margate\n",
      "Pulling data for 196 | amderma\n",
      "data not found\n",
      "Pulling data for 197 | krutinka\n",
      "Pulling data for 198 | umzimvubu\n",
      "data not found\n",
      "Pulling data for 199 | centenario do sul\n",
      "Pulling data for 200 | raudeberg\n",
      "Pulling data for 201 | nikolskoye\n",
      "Pulling data for 202 | khatanga\n",
      "Pulling data for 203 | ovalle\n",
      "Pulling data for 204 | belushya guba\n",
      "data not found\n",
      "Pulling data for 205 | altamira\n",
      "Pulling data for 206 | casa grande\n",
      "Pulling data for 207 | grand river south east\n",
      "data not found\n",
      "Pulling data for 208 | ngunguru\n",
      "Pulling data for 209 | longyearbyen\n",
      "Pulling data for 210 | vacaria\n",
      "Pulling data for 211 | sarkand\n",
      "Pulling data for 212 | severo-kurilsk\n",
      "Pulling data for 213 | ginda\n",
      "Pulling data for 214 | dhidhdhoo\n",
      "Pulling data for 215 | saskylakh\n",
      "Pulling data for 216 | kloulklubed\n",
      "Pulling data for 217 | chuy\n",
      "Pulling data for 218 | upernavik\n",
      "Pulling data for 219 | monrovia\n",
      "Pulling data for 220 | mar del plata\n",
      "Pulling data for 221 | yabassi\n",
      "Pulling data for 222 | surin\n",
      "Pulling data for 223 | grand forks\n",
      "Pulling data for 224 | sabha\n",
      "Pulling data for 225 | norman wells\n",
      "Pulling data for 226 | piacabucu\n",
      "Pulling data for 227 | port-gentil\n",
      "Pulling data for 228 | superior\n",
      "Pulling data for 229 | haines junction\n",
      "Pulling data for 230 | ancud\n",
      "Pulling data for 231 | berlevag\n",
      "Pulling data for 232 | wattegama\n",
      "Pulling data for 233 | tres arroyos\n",
      "Pulling data for 234 | yar-sale\n",
      "Pulling data for 235 | necochea\n",
      "Pulling data for 236 | atherton\n",
      "Pulling data for 237 | luderitz\n",
      "Pulling data for 238 | hofn\n",
      "Pulling data for 239 | karauzyak\n",
      "data not found\n",
      "Pulling data for 240 | brighton\n",
      "Pulling data for 241 | muleba\n",
      "Pulling data for 242 | gambela\n",
      "Pulling data for 243 | sendhwa\n",
      "Pulling data for 244 | phonhong\n",
      "Pulling data for 245 | fort-shevchenko\n",
      "Pulling data for 246 | nenjiang\n",
      "Pulling data for 247 | nome\n",
      "Pulling data for 248 | mabilbila\n",
      "data not found\n",
      "Pulling data for 249 | ekhabi\n"
     ]
    },
    {
     "name": "stdout",
     "output_type": "stream",
     "text": [
      "Pulling data for 250 | manokwari\n",
      "Pulling data for 251 | karamea\n",
      "data not found\n",
      "Pulling data for 252 | lagoa\n",
      "Pulling data for 253 | asau\n",
      "Pulling data for 254 | brae\n",
      "Pulling data for 255 | sao filipe\n",
      "Pulling data for 256 | petropavlovka\n",
      "Pulling data for 257 | taburi\n",
      "data not found\n",
      "Pulling data for 258 | san cristobal\n",
      "Pulling data for 259 | ambulu\n",
      "Pulling data for 260 | maceio\n",
      "Pulling data for 261 | ayan\n",
      "Pulling data for 262 | noumea\n",
      "Pulling data for 263 | visby\n",
      "Pulling data for 264 | mitsamiouli\n",
      "Pulling data for 265 | plettenberg bay\n",
      "Pulling data for 266 | camargo\n",
      "Pulling data for 267 | tiarei\n",
      "Pulling data for 268 | srednekolymsk\n",
      "Pulling data for 269 | sarangani\n",
      "Pulling data for 270 | baruun-urt\n",
      "Pulling data for 271 | saint-pierre\n",
      "Pulling data for 272 | morondava\n",
      "Pulling data for 273 | coquimbo\n",
      "Pulling data for 274 | jucurutu\n",
      "Pulling data for 275 | kununurra\n",
      "Pulling data for 276 | kulhudhuffushi\n",
      "Pulling data for 277 | vanavara\n",
      "Pulling data for 278 | roma\n",
      "Pulling data for 279 | souillac\n",
      "Pulling data for 280 | kindu\n",
      "Pulling data for 281 | manavalakurichi\n",
      "Pulling data for 282 | hambantota\n",
      "Pulling data for 283 | itanhaem\n",
      "Pulling data for 284 | biak\n",
      "Pulling data for 285 | leningradskiy\n",
      "Pulling data for 286 | coahuayana\n",
      "Pulling data for 287 | ballina\n",
      "Pulling data for 288 | mocambique\n",
      "data not found\n",
      "Pulling data for 289 | vila velha\n",
      "Pulling data for 290 | ihiala\n",
      "Pulling data for 291 | cadillac\n",
      "Pulling data for 292 | caraquet\n",
      "Pulling data for 293 | meulaboh\n",
      "Pulling data for 294 | jha jha\n",
      "Pulling data for 295 | rochegda\n",
      "Pulling data for 296 | bressanone\n",
      "Pulling data for 297 | honningsvag\n",
      "Pulling data for 298 | kudahuvadhoo\n",
      "Pulling data for 299 | kirkwood\n",
      "Pulling data for 300 | qandahar\n",
      "data not found\n",
      "Pulling data for 301 | luanda\n",
      "Pulling data for 302 | hasaki\n",
      "Pulling data for 303 | nouadhibou\n",
      "Pulling data for 304 | la romana\n",
      "Pulling data for 305 | sena madureira\n",
      "Pulling data for 306 | high level\n",
      "Pulling data for 307 | normandin\n",
      "Pulling data for 308 | sao miguel do tapuio\n",
      "Pulling data for 309 | zhangye\n",
      "Pulling data for 310 | aykhal\n",
      "Pulling data for 311 | punta alta\n",
      "Pulling data for 312 | vaitupu\n",
      "data not found\n",
      "Pulling data for 313 | cayenne\n",
      "Pulling data for 314 | lorengau\n",
      "Pulling data for 315 | koyelga\n",
      "Pulling data for 316 | ayorou\n",
      "Pulling data for 317 | luau\n",
      "Pulling data for 318 | sentyabrskiy\n",
      "data not found\n",
      "Pulling data for 319 | pedernales\n",
      "Pulling data for 320 | benavente\n",
      "Pulling data for 321 | sitka\n",
      "Pulling data for 322 | moree\n",
      "Pulling data for 323 | kaitangata\n",
      "Pulling data for 324 | luba\n",
      "Pulling data for 325 | faya\n",
      "Pulling data for 326 | shediac\n",
      "Pulling data for 327 | rustenburg\n",
      "Pulling data for 328 | nelson bay\n",
      "Pulling data for 329 | aksarka\n",
      "Pulling data for 330 | wajima\n",
      "Pulling data for 331 | nemuro\n",
      "Pulling data for 332 | fevralsk\n",
      "data not found\n",
      "Pulling data for 333 | iisalmi\n",
      "Pulling data for 334 | puerto del rosario\n",
      "Pulling data for 335 | oranjemund\n",
      "Pulling data for 336 | golpayegan\n",
      "Pulling data for 337 | fukue\n",
      "Pulling data for 338 | nanae\n",
      "Pulling data for 339 | marystown\n",
      "Pulling data for 340 | tsihombe\n",
      "data not found\n",
      "Pulling data for 341 | vitim\n",
      "Pulling data for 342 | fomboni\n",
      "Pulling data for 343 | muravlenko\n",
      "Pulling data for 344 | gornopravdinsk\n",
      "Pulling data for 345 | kosh-agach\n",
      "Pulling data for 346 | nelson\n",
      "Pulling data for 347 | huaral\n",
      "Pulling data for 348 | ajdabiya\n",
      "Pulling data for 349 | leh\n",
      "Pulling data for 350 | kochubeyevskoye\n",
      "Pulling data for 351 | lindi\n",
      "Pulling data for 352 | manga\n",
      "Pulling data for 353 | sorland\n",
      "Pulling data for 354 | beringovskiy\n",
      "Pulling data for 355 | zunyi\n",
      "Pulling data for 356 | laramie\n",
      "Pulling data for 357 | la ronge\n",
      "Pulling data for 358 | habiganj\n",
      "Pulling data for 359 | batticaloa\n",
      "Pulling data for 360 | izhma\n",
      "Pulling data for 361 | kashan\n",
      "Pulling data for 362 | mayo\n",
      "Pulling data for 363 | college\n",
      "Pulling data for 364 | itaqui\n",
      "Pulling data for 365 | carballo\n",
      "Pulling data for 366 | longlac\n",
      "data not found\n",
      "Pulling data for 367 | sept-iles\n",
      "Pulling data for 368 | palmer\n",
      "Pulling data for 369 | ternate\n",
      "Pulling data for 370 | ruyigi\n",
      "Pulling data for 371 | bunia\n",
      "Pulling data for 372 | kavaratti\n",
      "Pulling data for 373 | saint george\n",
      "Pulling data for 374 | narsaq\n",
      "Pulling data for 375 | drawsko pomorskie\n",
      "Pulling data for 376 | burica\n",
      "data not found\n",
      "Pulling data for 377 | zyryanka\n",
      "Pulling data for 378 | horadiz\n",
      "Pulling data for 379 | khonuu\n",
      "data not found\n",
      "Pulling data for 380 | contai\n",
      "Pulling data for 381 | mildura\n",
      "Pulling data for 382 | emerald\n",
      "Pulling data for 383 | lalibela\n",
      "Pulling data for 384 | yerkoy\n",
      "Pulling data for 385 | wapi pathum\n",
      "Pulling data for 386 | te anau\n",
      "Pulling data for 387 | hualmay\n",
      "Pulling data for 388 | victoria point\n",
      "Pulling data for 389 | benin\n",
      "Pulling data for 390 | sayyan\n",
      "Pulling data for 391 | komsomolskiy\n",
      "Pulling data for 392 | saint-philippe\n",
      "Pulling data for 393 | zhuhai\n",
      "Pulling data for 394 | bathsheba\n",
      "Pulling data for 395 | touros\n",
      "Pulling data for 396 | nazarovo\n",
      "Pulling data for 397 | bonavista\n",
      "Pulling data for 398 | yulara\n",
      "Pulling data for 399 | gonaives\n",
      "Pulling data for 400 | bolshaya murta\n",
      "data not found\n",
      "Pulling data for 401 | rio gallegos\n",
      "Pulling data for 402 | ozgon\n",
      "data not found\n",
      "Pulling data for 403 | wana\n",
      "Pulling data for 404 | bien hoa\n",
      "Pulling data for 405 | ndele\n",
      "Pulling data for 406 | goundam\n",
      "Pulling data for 407 | westport\n",
      "Pulling data for 408 | viedma\n",
      "Pulling data for 409 | whitehorse\n",
      "Pulling data for 410 | dunedin\n",
      "Pulling data for 411 | hovd\n",
      "Pulling data for 412 | chernyshevskiy\n",
      "Pulling data for 413 | hammerfest\n",
      "Pulling data for 414 | richards bay\n",
      "Pulling data for 415 | bjornevatn\n",
      "Pulling data for 416 | half moon bay\n",
      "Pulling data for 417 | georgiyevka\n",
      "Pulling data for 418 | guerrero negro\n",
      "Pulling data for 419 | neiafu\n",
      "Pulling data for 420 | daryapur\n",
      "Pulling data for 421 | visim\n",
      "Pulling data for 422 | willmar\n",
      "Pulling data for 423 | ustye\n",
      "Pulling data for 424 | waitati\n",
      "Pulling data for 425 | yeppoon\n",
      "Pulling data for 426 | aden\n",
      "Pulling data for 427 | sahrak\n",
      "data not found\n",
      "Pulling data for 428 | boca do acre\n",
      "Pulling data for 429 | mrirt\n",
      "data not found\n",
      "Pulling data for 430 | inuvik\n",
      "Pulling data for 431 | aginskoye\n",
      "Pulling data for 432 | white rock\n",
      "Pulling data for 433 | havoysund\n",
      "Pulling data for 434 | lake charles\n",
      "Pulling data for 435 | vysha\n",
      "Pulling data for 436 | olinda\n",
      "Pulling data for 437 | bayonet point\n",
      "Pulling data for 438 | agadir\n",
      "Pulling data for 439 | praia da vitoria\n",
      "Pulling data for 440 | colares\n",
      "Pulling data for 441 | the valley\n",
      "Pulling data for 442 | sofiysk\n",
      "data not found\n",
      "Pulling data for 443 | rock sound\n",
      "Pulling data for 444 | cabo san lucas\n",
      "Pulling data for 445 | lompoc\n",
      "Pulling data for 446 | marcona\n",
      "data not found\n",
      "Pulling data for 447 | truth or consequences\n",
      "Pulling data for 448 | beaufort\n",
      "Pulling data for 449 | svetlogorsk\n",
      "Pulling data for 450 | belyy yar\n",
      "Pulling data for 451 | kashi\n",
      "Pulling data for 452 | yichang\n",
      "Pulling data for 453 | vestmannaeyjar\n",
      "Pulling data for 454 | vetluga\n",
      "Pulling data for 455 | mayor pablo lagerenza\n",
      "Pulling data for 456 | grand-lahou\n",
      "Pulling data for 457 | sur\n",
      "Pulling data for 458 | port hueneme\n",
      "Pulling data for 459 | polovinnoye\n",
      "Pulling data for 460 | darhan\n",
      "Pulling data for 461 | arman\n",
      "Pulling data for 462 | silver city\n",
      "Pulling data for 463 | gimbi\n",
      "Pulling data for 464 | atlantic city\n",
      "Pulling data for 465 | kamyaran\n",
      "Pulling data for 466 | tayzhina\n",
      "Pulling data for 467 | acapulco\n",
      "Pulling data for 468 | manicore\n",
      "Pulling data for 469 | palabuhanratu\n",
      "data not found\n",
      "Pulling data for 470 | quelimane\n",
      "Pulling data for 471 | lasa\n",
      "Pulling data for 472 | champerico\n",
      "Pulling data for 473 | baykit\n",
      "Pulling data for 474 | tapes\n",
      "Pulling data for 475 | tidore\n",
      "data not found\n",
      "Pulling data for 476 | havre-saint-pierre\n",
      "Pulling data for 477 | corinto\n",
      "Pulling data for 478 | bom jesus\n",
      "Pulling data for 479 | san jeronimo\n",
      "Pulling data for 480 | gigmoto\n",
      "Pulling data for 481 | galiwinku\n",
      "data not found\n",
      "Pulling data for 482 | borba\n",
      "Pulling data for 483 | springhill\n",
      "Pulling data for 484 | gulf gate estates\n",
      "Pulling data for 485 | stykkisholmur\n",
      "Pulling data for 486 | terrace\n",
      "Pulling data for 487 | abha\n",
      "Pulling data for 488 | narva-joesuu\n",
      "Pulling data for 489 | santa lucia\n",
      "Pulling data for 490 | saint-francois\n",
      "Pulling data for 491 | ryotsu\n",
      "Pulling data for 492 | eyrarbakki\n"
     ]
    },
    {
     "name": "stdout",
     "output_type": "stream",
     "text": [
      "Pulling data for 493 | nantucket\n",
      "Pulling data for 494 | aflu\n",
      "data not found\n",
      "Pulling data for 495 | linxia\n",
      "Pulling data for 496 | ystad\n",
      "Pulling data for 497 | semnan\n",
      "Pulling data for 498 | zarubino\n",
      "Pulling data for 499 | sorvag\n",
      "data not found\n",
      "Pulling data for 500 | itarema\n",
      "Pulling data for 501 | olafsvik\n",
      "Pulling data for 502 | lincoln\n",
      "Pulling data for 503 | muyezerskiy\n",
      "Pulling data for 504 | la palma\n",
      "Pulling data for 505 | talcahuano\n",
      "Pulling data for 506 | magdagachi\n",
      "Pulling data for 507 | usinsk\n",
      "Pulling data for 508 | butembo\n",
      "Pulling data for 509 | eureka\n",
      "Pulling data for 510 | sinop\n",
      "Pulling data for 511 | sakaiminato\n",
      "Pulling data for 512 | maryville\n",
      "Pulling data for 513 | shasta lake\n",
      "Pulling data for 514 | boguchany\n",
      "Pulling data for 515 | divnogorsk\n",
      "Pulling data for 516 | tual\n",
      "Pulling data for 517 | sao joao da barra\n",
      "Pulling data for 518 | harfleur\n",
      "Pulling data for 519 | shelton\n",
      "Pulling data for 520 | pacifica\n",
      "Pulling data for 521 | pindobacu\n",
      "Pulling data for 522 | nokaneng\n",
      "Pulling data for 523 | sibolga\n",
      "Pulling data for 524 | balkanabat\n",
      "Pulling data for 525 | vila franca do campo\n",
      "Pulling data for 526 | ketchikan\n",
      "Pulling data for 527 | okhotsk\n",
      "Pulling data for 528 | mandalgovi\n",
      "Pulling data for 529 | prado\n",
      "Pulling data for 530 | yumen\n",
      "Pulling data for 531 | henties bay\n",
      "Pulling data for 532 | jiayuguan\n",
      "Pulling data for 533 | salalah\n",
      "Pulling data for 534 | piney green\n",
      "Pulling data for 535 | zabid\n",
      "Pulling data for 536 | lucknow\n",
      "Pulling data for 537 | suzhou\n",
      "Pulling data for 538 | sandwick\n",
      "Pulling data for 539 | blackwater\n",
      "Pulling data for 540 | kurchum\n",
      "Pulling data for 541 | amga\n",
      "Pulling data for 542 | novichikha\n",
      "Pulling data for 543 | pahrump\n",
      "Pulling data for 544 | coihaique\n",
      "Pulling data for 545 | alotau\n",
      "data not found\n",
      "Pulling data for 546 | urdzhar\n",
      "data not found\n",
      "Pulling data for 547 | tonantins\n",
      "Pulling data for 548 | isla vista\n",
      "Pulling data for 549 | zambezi\n",
      "Pulling data for 550 | yatou\n",
      "Pulling data for 551 | jinxiang\n",
      "Pulling data for 552 | cap malheureux\n",
      "Pulling data for 553 | augusta\n",
      "Pulling data for 554 | taos\n",
      "Pulling data for 555 | chifeng\n",
      "Pulling data for 556 | hihifo\n",
      "data not found\n",
      "Pulling data for 557 | raga\n",
      "Pulling data for 558 | cuamba\n",
      "Pulling data for 559 | puerto madryn\n",
      "Pulling data for 560 | miandrivazo\n",
      "Pulling data for 561 | krasnogorodsk\n",
      "Pulling data for 562 | coos bay\n",
      "Pulling data for 563 | toliary\n",
      "data not found\n",
      "Pulling data for 564 | provideniya\n",
      "Pulling data for 565 | roberval\n",
      "Pulling data for 566 | jilib\n",
      "Pulling data for 567 | santa isabel do rio negro\n",
      "Pulling data for 568 | preston\n",
      "Pulling data for 569 | ucluelet\n",
      "Pulling data for 570 | breves\n",
      "Pulling data for 571 | malakal\n",
      "Pulling data for 572 | las palmas\n",
      "Pulling data for 573 | osinki\n",
      "Pulling data for 574 | drayton valley\n",
      "Pulling data for 575 | parkes\n",
      "Pulling data for 576 | rupert\n",
      "Pulling data for 577 | codrington\n",
      "Pulling data for 578 | nizhniy kuranakh\n",
      "Pulling data for 579 | andenes\n",
      "Pulling data for 580 | lahat\n",
      "Pulling data for 581 | upata\n",
      "Pulling data for 582 | mount gambier\n",
      "Pulling data for 583 | borovskoy\n",
      "Pulling data for 584 | weyburn\n"
     ]
    }
   ],
   "source": [
    "city_name = []\n",
    "lat = []\n",
    "lng = []\n",
    "max_temp = []\n",
    "humidity = []\n",
    "cloudiness = []\n",
    "wind_speed = []\n",
    "country = []\n",
    "date = []\n",
    "\n",
    "x=0\n",
    "for city in cities:\n",
    "    try:\n",
    "        response = requests.get(query_url + city).json()\n",
    "        x=x+1\n",
    "        print(f\"Pulling data for {x} | {city}\")\n",
    "        city_name.append(response[\"name\"])\n",
    "        lat.append(response[\"coord\"][\"lat\"])\n",
    "        lng.append(response[\"coord\"][\"lon\"])\n",
    "        max_temp.append(response[\"main\"][\"temp_max\"])\n",
    "        humidity.append(response[\"main\"][\"humidity\"])\n",
    "        cloudiness.append(response[\"clouds\"][\"all\"])\n",
    "        wind_speed.append(response[\"wind\"][\"speed\"])\n",
    "        country.append(response[\"sys\"][\"country\"])\n",
    "        date.append(response[\"dt\"])\n",
    "        \n",
    "    except KeyError: \n",
    "        print(\"data not found\")"
   ]
  },
  {
   "cell_type": "markdown",
   "metadata": {},
   "source": [
    "### Convert Raw Data to DataFrame\n",
    "* Export the city data into a .csv.\n",
    "* Display the DataFrame"
   ]
  },
  {
   "cell_type": "code",
   "execution_count": 8,
   "metadata": {
    "scrolled": true
   },
   "outputs": [
    {
     "data": {
      "text/html": [
       "<div>\n",
       "<style scoped>\n",
       "    .dataframe tbody tr th:only-of-type {\n",
       "        vertical-align: middle;\n",
       "    }\n",
       "\n",
       "    .dataframe tbody tr th {\n",
       "        vertical-align: top;\n",
       "    }\n",
       "\n",
       "    .dataframe thead th {\n",
       "        text-align: right;\n",
       "    }\n",
       "</style>\n",
       "<table border=\"1\" class=\"dataframe\">\n",
       "  <thead>\n",
       "    <tr style=\"text-align: right;\">\n",
       "      <th></th>\n",
       "      <th>City</th>\n",
       "      <th>Lat</th>\n",
       "      <th>Lng</th>\n",
       "      <th>Max Temp</th>\n",
       "      <th>Humidity</th>\n",
       "      <th>Cloudiness</th>\n",
       "      <th>Wind Speed</th>\n",
       "      <th>Country</th>\n",
       "      <th>Date</th>\n",
       "    </tr>\n",
       "  </thead>\n",
       "  <tbody>\n",
       "    <tr>\n",
       "      <th>0</th>\n",
       "      <td>Busselton</td>\n",
       "      <td>-33.65</td>\n",
       "      <td>115.33</td>\n",
       "      <td>60.01</td>\n",
       "      <td>70</td>\n",
       "      <td>0</td>\n",
       "      <td>11.01</td>\n",
       "      <td>AU</td>\n",
       "      <td>1603931242</td>\n",
       "    </tr>\n",
       "    <tr>\n",
       "      <th>1</th>\n",
       "      <td>Calbuco</td>\n",
       "      <td>-41.77</td>\n",
       "      <td>-73.13</td>\n",
       "      <td>50.31</td>\n",
       "      <td>63</td>\n",
       "      <td>97</td>\n",
       "      <td>9.04</td>\n",
       "      <td>CL</td>\n",
       "      <td>1603931242</td>\n",
       "    </tr>\n",
       "    <tr>\n",
       "      <th>2</th>\n",
       "      <td>Naryan-Mar</td>\n",
       "      <td>67.67</td>\n",
       "      <td>53.09</td>\n",
       "      <td>36.27</td>\n",
       "      <td>98</td>\n",
       "      <td>100</td>\n",
       "      <td>9.91</td>\n",
       "      <td>RU</td>\n",
       "      <td>1603931242</td>\n",
       "    </tr>\n",
       "    <tr>\n",
       "      <th>3</th>\n",
       "      <td>Qaqortoq</td>\n",
       "      <td>60.72</td>\n",
       "      <td>-46.03</td>\n",
       "      <td>31.48</td>\n",
       "      <td>94</td>\n",
       "      <td>100</td>\n",
       "      <td>5.57</td>\n",
       "      <td>GL</td>\n",
       "      <td>1603931242</td>\n",
       "    </tr>\n",
       "    <tr>\n",
       "      <th>4</th>\n",
       "      <td>Cape Town</td>\n",
       "      <td>-33.93</td>\n",
       "      <td>18.42</td>\n",
       "      <td>61.00</td>\n",
       "      <td>87</td>\n",
       "      <td>75</td>\n",
       "      <td>17.22</td>\n",
       "      <td>ZA</td>\n",
       "      <td>1603931042</td>\n",
       "    </tr>\n",
       "    <tr>\n",
       "      <th>...</th>\n",
       "      <td>...</td>\n",
       "      <td>...</td>\n",
       "      <td>...</td>\n",
       "      <td>...</td>\n",
       "      <td>...</td>\n",
       "      <td>...</td>\n",
       "      <td>...</td>\n",
       "      <td>...</td>\n",
       "      <td>...</td>\n",
       "    </tr>\n",
       "    <tr>\n",
       "      <th>537</th>\n",
       "      <td>Lahat</td>\n",
       "      <td>-3.80</td>\n",
       "      <td>103.53</td>\n",
       "      <td>75.07</td>\n",
       "      <td>86</td>\n",
       "      <td>97</td>\n",
       "      <td>0.83</td>\n",
       "      <td>ID</td>\n",
       "      <td>1603931343</td>\n",
       "    </tr>\n",
       "    <tr>\n",
       "      <th>538</th>\n",
       "      <td>Upata</td>\n",
       "      <td>8.01</td>\n",
       "      <td>-62.40</td>\n",
       "      <td>87.01</td>\n",
       "      <td>64</td>\n",
       "      <td>33</td>\n",
       "      <td>5.10</td>\n",
       "      <td>VE</td>\n",
       "      <td>1603931343</td>\n",
       "    </tr>\n",
       "    <tr>\n",
       "      <th>539</th>\n",
       "      <td>Mount Gambier</td>\n",
       "      <td>-37.83</td>\n",
       "      <td>140.77</td>\n",
       "      <td>50.20</td>\n",
       "      <td>95</td>\n",
       "      <td>100</td>\n",
       "      <td>6.08</td>\n",
       "      <td>AU</td>\n",
       "      <td>1603931254</td>\n",
       "    </tr>\n",
       "    <tr>\n",
       "      <th>540</th>\n",
       "      <td>Borovskoy</td>\n",
       "      <td>53.80</td>\n",
       "      <td>64.15</td>\n",
       "      <td>27.88</td>\n",
       "      <td>93</td>\n",
       "      <td>73</td>\n",
       "      <td>9.89</td>\n",
       "      <td>KZ</td>\n",
       "      <td>1603931343</td>\n",
       "    </tr>\n",
       "    <tr>\n",
       "      <th>541</th>\n",
       "      <td>Weyburn</td>\n",
       "      <td>49.67</td>\n",
       "      <td>-103.85</td>\n",
       "      <td>33.01</td>\n",
       "      <td>81</td>\n",
       "      <td>98</td>\n",
       "      <td>5.99</td>\n",
       "      <td>CA</td>\n",
       "      <td>1603931290</td>\n",
       "    </tr>\n",
       "  </tbody>\n",
       "</table>\n",
       "<p>542 rows × 9 columns</p>\n",
       "</div>"
      ],
      "text/plain": [
       "              City    Lat     Lng  Max Temp  Humidity  Cloudiness  Wind Speed  \\\n",
       "0        Busselton -33.65  115.33     60.01        70           0       11.01   \n",
       "1          Calbuco -41.77  -73.13     50.31        63          97        9.04   \n",
       "2       Naryan-Mar  67.67   53.09     36.27        98         100        9.91   \n",
       "3         Qaqortoq  60.72  -46.03     31.48        94         100        5.57   \n",
       "4        Cape Town -33.93   18.42     61.00        87          75       17.22   \n",
       "..             ...    ...     ...       ...       ...         ...         ...   \n",
       "537          Lahat  -3.80  103.53     75.07        86          97        0.83   \n",
       "538          Upata   8.01  -62.40     87.01        64          33        5.10   \n",
       "539  Mount Gambier -37.83  140.77     50.20        95         100        6.08   \n",
       "540      Borovskoy  53.80   64.15     27.88        93          73        9.89   \n",
       "541        Weyburn  49.67 -103.85     33.01        81          98        5.99   \n",
       "\n",
       "    Country        Date  \n",
       "0        AU  1603931242  \n",
       "1        CL  1603931242  \n",
       "2        RU  1603931242  \n",
       "3        GL  1603931242  \n",
       "4        ZA  1603931042  \n",
       "..      ...         ...  \n",
       "537      ID  1603931343  \n",
       "538      VE  1603931343  \n",
       "539      AU  1603931254  \n",
       "540      KZ  1603931343  \n",
       "541      CA  1603931290  \n",
       "\n",
       "[542 rows x 9 columns]"
      ]
     },
     "execution_count": 8,
     "metadata": {},
     "output_type": "execute_result"
    }
   ],
   "source": [
    "#Create the data frame \n",
    "export_frame = pd.DataFrame({\n",
    "        \"City\":city_name,\n",
    "        \"Lat\":lat,\n",
    "        \"Lng\":lng,\n",
    "        \"Max Temp\":max_temp,\n",
    "        \"Humidity\":humidity,\n",
    "        \"Cloudiness\":cloudiness,\n",
    "        \"Wind Speed\":wind_speed,\n",
    "        \"Country\":country,\n",
    "        \"Date\":date \n",
    "})\n",
    "#Export the data to a .csv file \n",
    "export_frame.to_csv(\"city_weather.csv\", index = False)\n",
    "#Display the data frame\n",
    "export_frame"
   ]
  },
  {
   "cell_type": "code",
   "execution_count": null,
   "metadata": {},
   "outputs": [],
   "source": []
  },
  {
   "cell_type": "markdown",
   "metadata": {},
   "source": [
    "## Inspect the data and remove the cities where the humidity > 100%.\n",
    "----\n",
    "Skip this step if there are no cities that have humidity > 100%. "
   ]
  },
  {
   "cell_type": "code",
   "execution_count": null,
   "metadata": {},
   "outputs": [],
   "source": [
    "#no cities with humidity over 100%"
   ]
  },
  {
   "cell_type": "code",
   "execution_count": 9,
   "metadata": {
    "scrolled": true
   },
   "outputs": [
    {
     "data": {
      "text/html": [
       "<div>\n",
       "<style scoped>\n",
       "    .dataframe tbody tr th:only-of-type {\n",
       "        vertical-align: middle;\n",
       "    }\n",
       "\n",
       "    .dataframe tbody tr th {\n",
       "        vertical-align: top;\n",
       "    }\n",
       "\n",
       "    .dataframe thead th {\n",
       "        text-align: right;\n",
       "    }\n",
       "</style>\n",
       "<table border=\"1\" class=\"dataframe\">\n",
       "  <thead>\n",
       "    <tr style=\"text-align: right;\">\n",
       "      <th></th>\n",
       "      <th>City</th>\n",
       "      <th>Lat</th>\n",
       "      <th>Lng</th>\n",
       "      <th>Max Temp</th>\n",
       "      <th>Humidity</th>\n",
       "      <th>Cloudiness</th>\n",
       "      <th>Wind Speed</th>\n",
       "      <th>Country</th>\n",
       "      <th>Date</th>\n",
       "    </tr>\n",
       "  </thead>\n",
       "  <tbody>\n",
       "    <tr>\n",
       "      <th>76</th>\n",
       "      <td>Kiryat Gat</td>\n",
       "      <td>31.61</td>\n",
       "      <td>34.76</td>\n",
       "      <td>75.00</td>\n",
       "      <td>100</td>\n",
       "      <td>98</td>\n",
       "      <td>1.01</td>\n",
       "      <td>IL</td>\n",
       "      <td>1603931257</td>\n",
       "    </tr>\n",
       "    <tr>\n",
       "      <th>301</th>\n",
       "      <td>Luba</td>\n",
       "      <td>3.46</td>\n",
       "      <td>8.55</td>\n",
       "      <td>75.20</td>\n",
       "      <td>100</td>\n",
       "      <td>40</td>\n",
       "      <td>3.36</td>\n",
       "      <td>GQ</td>\n",
       "      <td>1603931300</td>\n",
       "    </tr>\n",
       "    <tr>\n",
       "      <th>436</th>\n",
       "      <td>Laas</td>\n",
       "      <td>46.62</td>\n",
       "      <td>10.70</td>\n",
       "      <td>43.00</td>\n",
       "      <td>100</td>\n",
       "      <td>76</td>\n",
       "      <td>1.88</td>\n",
       "      <td>IT</td>\n",
       "      <td>1603931325</td>\n",
       "    </tr>\n",
       "    <tr>\n",
       "      <th>469</th>\n",
       "      <td>Butembo</td>\n",
       "      <td>0.15</td>\n",
       "      <td>29.28</td>\n",
       "      <td>58.19</td>\n",
       "      <td>100</td>\n",
       "      <td>100</td>\n",
       "      <td>2.33</td>\n",
       "      <td>CD</td>\n",
       "      <td>1603931331</td>\n",
       "    </tr>\n",
       "  </tbody>\n",
       "</table>\n",
       "</div>"
      ],
      "text/plain": [
       "           City    Lat    Lng  Max Temp  Humidity  Cloudiness  Wind Speed  \\\n",
       "76   Kiryat Gat  31.61  34.76     75.00       100          98        1.01   \n",
       "301        Luba   3.46   8.55     75.20       100          40        3.36   \n",
       "436        Laas  46.62  10.70     43.00       100          76        1.88   \n",
       "469     Butembo   0.15  29.28     58.19       100         100        2.33   \n",
       "\n",
       "    Country        Date  \n",
       "76       IL  1603931257  \n",
       "301      GQ  1603931300  \n",
       "436      IT  1603931325  \n",
       "469      CD  1603931331  "
      ]
     },
     "execution_count": 9,
     "metadata": {},
     "output_type": "execute_result"
    }
   ],
   "source": [
    "#  Get the indices of cities that have humidity over 100%\n",
    "df2 = export_frame.loc[export_frame[\"Humidity\"] >= 100]\n",
    "df2"
   ]
  },
  {
   "cell_type": "code",
   "execution_count": 7,
   "metadata": {},
   "outputs": [],
   "source": [
    "# Make a new DataFrame equal to the city data to drop all humidity outliers by index.\n",
    "# Passing \"inplace=False\" will make a copy of the city_data DataFrame, which we call \"clean_city_data\".\n"
   ]
  },
  {
   "cell_type": "code",
   "execution_count": null,
   "metadata": {},
   "outputs": [],
   "source": [
    "\n"
   ]
  },
  {
   "cell_type": "markdown",
   "metadata": {},
   "source": [
    "## Plotting the Data\n",
    "* Use proper labeling of the plots using plot titles (including date of analysis) and axes labels.\n",
    "* Save the plotted figures as .pngs."
   ]
  },
  {
   "cell_type": "markdown",
   "metadata": {},
   "source": [
    "## Latitude vs. Temperature Plot"
   ]
  },
  {
   "cell_type": "code",
   "execution_count": 12,
   "metadata": {
    "scrolled": false
   },
   "outputs": [
    {
     "data": {
      "image/png": "[encoded data removed]",
      "text/plain": [
       "<Figure size 432x288 with 1 Axes>"
      ]
     },
     "metadata": {
      "needs_background": "light"
     },
     "output_type": "display_data"
    }
   ],
   "source": [
    "#Create the plot\n",
    "plt.scatter(export_frame[\"Lat\"], export_frame[\"Max Temp\"], marker = \"o\")\n",
    "\n",
    "#Labeling \n",
    "plt.title(\"City Latitude vs. Max Temperature\")\n",
    "plt.ylabel(\"Max Temperature (F)\")\n",
    "plt.xlabel(\"Latitude\")\n",
    "plt.grid(True)\n",
    "plt.savefig('scatter_plot1.png', dpi=300)"
   ]
  },
  {
   "cell_type": "markdown",
   "metadata": {},
   "source": [
    "## Latitude vs. Humidity Plot"
   ]
  },
  {
   "cell_type": "code",
   "execution_count": 13,
   "metadata": {
    "scrolled": true
   },
   "outputs": [
    {
     "data": {
      "image/png": "[encoded data removed]",
      "text/plain": [
       "<Figure size 432x288 with 1 Axes>"
      ]
     },
     "metadata": {
      "needs_background": "light"
     },
     "output_type": "display_data"
    }
   ],
   "source": [
    "#Create the plot\n",
    "plt.scatter(export_frame[\"Lat\"], export_frame[\"Humidity\"], marker = \"o\")\n",
    "\n",
    "#Labeling \n",
    "plt.title(\"City Latitude vs. Humidity\")\n",
    "plt.ylabel(\"Humidity\")\n",
    "plt.xlabel(\"Latitude\")\n",
    "plt.grid(True)\n",
    "plt.savefig('scatter_plot2.png', dpi=300)"
   ]
  },
  {
   "cell_type": "markdown",
   "metadata": {},
   "source": [
    "## Latitude vs. Cloudiness Plot"
   ]
  },
  {
   "cell_type": "code",
   "execution_count": 14,
   "metadata": {},
   "outputs": [
    {
     "data": {
      "image/png": "[encoded data removed]",
      "text/plain": [
       "<Figure size 432x288 with 1 Axes>"
      ]
     },
     "metadata": {
      "needs_background": "light"
     },
     "output_type": "display_data"
    }
   ],
   "source": [
    "#Create the plot\n",
    "plt.scatter(export_frame[\"Lat\"], export_frame[\"Cloudiness\"], marker = \"o\")\n",
    "\n",
    "#Labeling \n",
    "plt.title(\"City Latitude vs. Cloudiness\")\n",
    "plt.ylabel(\"Cloudiness\")\n",
    "plt.xlabel(\"Latitude\")\n",
    "plt.grid(True)\n",
    "plt.savefig('scatter_plot3.png', dpi=300)"
   ]
  },
  {
   "cell_type": "markdown",
   "metadata": {},
   "source": [
    "## Latitude vs. Wind Speed Plot"
   ]
  },
  {
   "cell_type": "code",
   "execution_count": 15,
   "metadata": {},
   "outputs": [
    {
     "data": {
      "image/png": "[encoded data removed]",
      "text/plain": [
       "<Figure size 432x288 with 1 Axes>"
      ]
     },
     "metadata": {
      "needs_background": "light"
     },
     "output_type": "display_data"
    }
   ],
   "source": [
    "#Create the plot\n",
    "plt.scatter(export_frame[\"Lat\"], export_frame[\"Wind Speed\"], marker = \"o\")\n",
    "\n",
    "#Labeling \n",
    "plt.title(\"City Latitude vs. Wind Speed\")\n",
    "plt.ylabel(\"Wind Speed\")\n",
    "plt.xlabel(\"Latitude\")\n",
    "plt.grid(True)\n",
    "plt.savefig('scatter_plot4.png', dpi=300)"
   ]
  },
  {
   "cell_type": "markdown",
   "metadata": {},
   "source": [
    "## Linear Regression"
   ]
  },
  {
   "cell_type": "code",
   "execution_count": 16,
   "metadata": {},
   "outputs": [
    {
     "data": {
      "text/html": [
       "<div>\n",
       "<style scoped>\n",
       "    .dataframe tbody tr th:only-of-type {\n",
       "        vertical-align: middle;\n",
       "    }\n",
       "\n",
       "    .dataframe tbody tr th {\n",
       "        vertical-align: top;\n",
       "    }\n",
       "\n",
       "    .dataframe thead th {\n",
       "        text-align: right;\n",
       "    }\n",
       "</style>\n",
       "<table border=\"1\" class=\"dataframe\">\n",
       "  <thead>\n",
       "    <tr style=\"text-align: right;\">\n",
       "      <th></th>\n",
       "      <th>City</th>\n",
       "      <th>Lat</th>\n",
       "      <th>Lng</th>\n",
       "      <th>Max Temp</th>\n",
       "      <th>Humidity</th>\n",
       "      <th>Cloudiness</th>\n",
       "      <th>Wind Speed</th>\n",
       "      <th>Country</th>\n",
       "      <th>Date</th>\n",
       "    </tr>\n",
       "  </thead>\n",
       "  <tbody>\n",
       "    <tr>\n",
       "      <th>0</th>\n",
       "      <td>Busselton</td>\n",
       "      <td>-33.65</td>\n",
       "      <td>115.33</td>\n",
       "      <td>60.01</td>\n",
       "      <td>70</td>\n",
       "      <td>0</td>\n",
       "      <td>11.01</td>\n",
       "      <td>AU</td>\n",
       "      <td>1603931242</td>\n",
       "    </tr>\n",
       "    <tr>\n",
       "      <th>1</th>\n",
       "      <td>Calbuco</td>\n",
       "      <td>-41.77</td>\n",
       "      <td>-73.13</td>\n",
       "      <td>50.31</td>\n",
       "      <td>63</td>\n",
       "      <td>97</td>\n",
       "      <td>9.04</td>\n",
       "      <td>CL</td>\n",
       "      <td>1603931242</td>\n",
       "    </tr>\n",
       "    <tr>\n",
       "      <th>4</th>\n",
       "      <td>Cape Town</td>\n",
       "      <td>-33.93</td>\n",
       "      <td>18.42</td>\n",
       "      <td>61.00</td>\n",
       "      <td>87</td>\n",
       "      <td>75</td>\n",
       "      <td>17.22</td>\n",
       "      <td>ZA</td>\n",
       "      <td>1603931042</td>\n",
       "    </tr>\n",
       "    <tr>\n",
       "      <th>5</th>\n",
       "      <td>Port Alfred</td>\n",
       "      <td>-33.59</td>\n",
       "      <td>26.89</td>\n",
       "      <td>67.26</td>\n",
       "      <td>84</td>\n",
       "      <td>100</td>\n",
       "      <td>6.11</td>\n",
       "      <td>ZA</td>\n",
       "      <td>1603931242</td>\n",
       "    </tr>\n",
       "    <tr>\n",
       "      <th>6</th>\n",
       "      <td>Buenos Aires</td>\n",
       "      <td>-34.61</td>\n",
       "      <td>-58.38</td>\n",
       "      <td>59.00</td>\n",
       "      <td>81</td>\n",
       "      <td>67</td>\n",
       "      <td>1.99</td>\n",
       "      <td>AR</td>\n",
       "      <td>1603931126</td>\n",
       "    </tr>\n",
       "    <tr>\n",
       "      <th>...</th>\n",
       "      <td>...</td>\n",
       "      <td>...</td>\n",
       "      <td>...</td>\n",
       "      <td>...</td>\n",
       "      <td>...</td>\n",
       "      <td>...</td>\n",
       "      <td>...</td>\n",
       "      <td>...</td>\n",
       "      <td>...</td>\n",
       "    </tr>\n",
       "    <tr>\n",
       "      <th>527</th>\n",
       "      <td>Breves</td>\n",
       "      <td>-1.68</td>\n",
       "      <td>-50.48</td>\n",
       "      <td>79.05</td>\n",
       "      <td>79</td>\n",
       "      <td>58</td>\n",
       "      <td>3.74</td>\n",
       "      <td>BR</td>\n",
       "      <td>1603931341</td>\n",
       "    </tr>\n",
       "    <tr>\n",
       "      <th>532</th>\n",
       "      <td>Parkes</td>\n",
       "      <td>-33.13</td>\n",
       "      <td>148.18</td>\n",
       "      <td>68.00</td>\n",
       "      <td>62</td>\n",
       "      <td>10</td>\n",
       "      <td>1.99</td>\n",
       "      <td>AU</td>\n",
       "      <td>1603931342</td>\n",
       "    </tr>\n",
       "    <tr>\n",
       "      <th>534</th>\n",
       "      <td>Codrington</td>\n",
       "      <td>-38.27</td>\n",
       "      <td>141.97</td>\n",
       "      <td>57.99</td>\n",
       "      <td>70</td>\n",
       "      <td>70</td>\n",
       "      <td>8.99</td>\n",
       "      <td>AU</td>\n",
       "      <td>1603931342</td>\n",
       "    </tr>\n",
       "    <tr>\n",
       "      <th>537</th>\n",
       "      <td>Lahat</td>\n",
       "      <td>-3.80</td>\n",
       "      <td>103.53</td>\n",
       "      <td>75.07</td>\n",
       "      <td>86</td>\n",
       "      <td>97</td>\n",
       "      <td>0.83</td>\n",
       "      <td>ID</td>\n",
       "      <td>1603931343</td>\n",
       "    </tr>\n",
       "    <tr>\n",
       "      <th>539</th>\n",
       "      <td>Mount Gambier</td>\n",
       "      <td>-37.83</td>\n",
       "      <td>140.77</td>\n",
       "      <td>50.20</td>\n",
       "      <td>95</td>\n",
       "      <td>100</td>\n",
       "      <td>6.08</td>\n",
       "      <td>AU</td>\n",
       "      <td>1603931254</td>\n",
       "    </tr>\n",
       "  </tbody>\n",
       "</table>\n",
       "<p>165 rows × 9 columns</p>\n",
       "</div>"
      ],
      "text/plain": [
       "              City    Lat     Lng  Max Temp  Humidity  Cloudiness  Wind Speed  \\\n",
       "0        Busselton -33.65  115.33     60.01        70           0       11.01   \n",
       "1          Calbuco -41.77  -73.13     50.31        63          97        9.04   \n",
       "4        Cape Town -33.93   18.42     61.00        87          75       17.22   \n",
       "5      Port Alfred -33.59   26.89     67.26        84         100        6.11   \n",
       "6     Buenos Aires -34.61  -58.38     59.00        81          67        1.99   \n",
       "..             ...    ...     ...       ...       ...         ...         ...   \n",
       "527         Breves  -1.68  -50.48     79.05        79          58        3.74   \n",
       "532         Parkes -33.13  148.18     68.00        62          10        1.99   \n",
       "534     Codrington -38.27  141.97     57.99        70          70        8.99   \n",
       "537          Lahat  -3.80  103.53     75.07        86          97        0.83   \n",
       "539  Mount Gambier -37.83  140.77     50.20        95         100        6.08   \n",
       "\n",
       "    Country        Date  \n",
       "0        AU  1603931242  \n",
       "1        CL  1603931242  \n",
       "4        ZA  1603931042  \n",
       "5        ZA  1603931242  \n",
       "6        AR  1603931126  \n",
       "..      ...         ...  \n",
       "527      BR  1603931341  \n",
       "532      AU  1603931342  \n",
       "534      AU  1603931342  \n",
       "537      ID  1603931343  \n",
       "539      AU  1603931254  \n",
       "\n",
       "[165 rows x 9 columns]"
      ]
     },
     "execution_count": 16,
     "metadata": {},
     "output_type": "execute_result"
    }
   ],
   "source": [
    "northern_hemisphere = export_frame.loc[export_frame[\"Lat\"] >= 0,:]\n",
    "\n",
    "southern_hemisphere = export_frame.loc[export_frame[\"Lat\"] < 0,:]\n",
    "southern_hemisphere"
   ]
  },
  {
   "cell_type": "markdown",
   "metadata": {},
   "source": [
    "####  Northern Hemisphere - Max Temp vs. Latitude Linear Regression"
   ]
  },
  {
   "cell_type": "code",
   "execution_count": 17,
   "metadata": {
    "scrolled": true
   },
   "outputs": [
    {
     "name": "stdout",
     "output_type": "stream",
     "text": [
      "The r-squared is: 0.7141254856630617\n"
     ]
    },
    {
     "data": {
      "image/png": "[encoded data removed]",
      "text/plain": [
       "<Figure size 432x288 with 1 Axes>"
      ]
     },
     "metadata": {
      "needs_background": "light"
     },
     "output_type": "display_data"
    },
    {
     "data": {
      "text/plain": [
       "<Figure size 432x288 with 0 Axes>"
      ]
     },
     "metadata": {},
     "output_type": "display_data"
    }
   ],
   "source": [
    "x_values = northern_hemisphere[\"Max Temp\"]\n",
    "y_values = northern_hemisphere[\"Lat\"]\n",
    "\n",
    "plt.scatter(x_values,y_values,marker = \"o\", color='b')\n",
    "(slope, intercept, rvalue, pvalue, stderr) = linregress(x_values, y_values)\n",
    "regress_values = x_values * slope + intercept\n",
    "line_eq = \"y = \" + str(round(slope,2)) + \"x + \" + str(round(intercept,2))\n",
    "plt.scatter(x_values,y_values)\n",
    "plt.plot(x_values,regress_values,\"r-\")\n",
    "plt.annotate(line_eq,(6,10),fontsize=15)\n",
    "print(f\"The r-squared is: {rvalue**2}\")\n",
    "\n",
    "plt.xlabel('Latitude')\n",
    "plt.ylabel('Max Temp')\n",
    "plt.show()\n",
    "plt.savefig('scatter_plot5.png', dpi=300)"
   ]
  },
  {
   "cell_type": "markdown",
   "metadata": {},
   "source": [
    "####  Southern Hemisphere - Max Temp vs. Latitude Linear Regression"
   ]
  },
  {
   "cell_type": "code",
   "execution_count": 18,
   "metadata": {},
   "outputs": [
    {
     "name": "stdout",
     "output_type": "stream",
     "text": [
      "The r-squared is: 0.5236058819348716\n"
     ]
    },
    {
     "data": {
      "image/png": "[encoded data removed]",
      "text/plain": [
       "<Figure size 432x288 with 1 Axes>"
      ]
     },
     "metadata": {
      "needs_background": "light"
     },
     "output_type": "display_data"
    },
    {
     "data": {
      "text/plain": [
       "<Figure size 432x288 with 0 Axes>"
      ]
     },
     "metadata": {},
     "output_type": "display_data"
    }
   ],
   "source": [
    "x_values = southern_hemisphere[\"Max Temp\"]\n",
    "y_values = southern_hemisphere[\"Lat\"]\n",
    "\n",
    "plt.scatter(x_values,y_values,marker = \"o\", color='b')\n",
    "(slope, intercept, rvalue, pvalue, stderr) = linregress(x_values, y_values)\n",
    "regress_values = x_values * slope + intercept\n",
    "line_eq = \"y = \" + str(round(slope,2)) + \"x + \" + str(round(intercept,2))\n",
    "plt.scatter(x_values,y_values)\n",
    "plt.plot(x_values,regress_values,\"r-\")\n",
    "plt.annotate(line_eq,(6,10),fontsize=15)\n",
    "print(f\"The r-squared is: {rvalue**2}\")\n",
    "\n",
    "plt.xlabel('Latitude')\n",
    "plt.ylabel('Max Temp')\n",
    "plt.show()\n",
    "plt.savefig('scatter_plot6.png', dpi=300)"
   ]
  },
  {
   "cell_type": "markdown",
   "metadata": {},
   "source": [
    "####  Northern Hemisphere - Humidity (%) vs. Latitude Linear Regression"
   ]
  },
  {
   "cell_type": "code",
   "execution_count": 19,
   "metadata": {},
   "outputs": [
    {
     "name": "stdout",
     "output_type": "stream",
     "text": [
      "The r-squared is: 0.06788236147795278\n"
     ]
    },
    {
     "data": {
      "image/png": "[encoded data removed]",
      "text/plain": [
       "<Figure size 432x288 with 1 Axes>"
      ]
     },
     "metadata": {
      "needs_background": "light"
     },
     "output_type": "display_data"
    },
    {
     "data": {
      "text/plain": [
       "<Figure size 432x288 with 0 Axes>"
      ]
     },
     "metadata": {},
     "output_type": "display_data"
    }
   ],
   "source": [
    "x_values = northern_hemisphere[\"Humidity\"]\n",
    "y_values = northern_hemisphere[\"Lat\"]\n",
    "\n",
    "plt.scatter(x_values,y_values,marker = \"o\", color='b')\n",
    "(slope, intercept, rvalue, pvalue, stderr) = linregress(x_values, y_values)\n",
    "regress_values = x_values * slope + intercept\n",
    "line_eq = \"y = \" + str(round(slope,2)) + \"x + \" + str(round(intercept,2))\n",
    "plt.scatter(x_values,y_values)\n",
    "plt.plot(x_values,regress_values,\"r-\")\n",
    "plt.annotate(line_eq,(6,10),fontsize=15)\n",
    "print(f\"The r-squared is: {rvalue**2}\")\n",
    "\n",
    "plt.xlabel('Latitude')\n",
    "plt.ylabel('Max Temp')\n",
    "plt.show()\n",
    "plt.savefig('scatter_plot7.png', dpi=300)"
   ]
  },
  {
   "cell_type": "markdown",
   "metadata": {},
   "source": [
    "####  Southern Hemisphere - Humidity (%) vs. Latitude Linear Regression"
   ]
  },
  {
   "cell_type": "code",
   "execution_count": 20,
   "metadata": {},
   "outputs": [
    {
     "name": "stdout",
     "output_type": "stream",
     "text": [
      "The r-squared is: 0.012998235502396583\n"
     ]
    },
    {
     "data": {
      "image/png": "[encoded data removed]",
      "text/plain": [
       "<Figure size 432x288 with 1 Axes>"
      ]
     },
     "metadata": {
      "needs_background": "light"
     },
     "output_type": "display_data"
    },
    {
     "data": {
      "text/plain": [
       "<Figure size 432x288 with 0 Axes>"
      ]
     },
     "metadata": {},
     "output_type": "display_data"
    }
   ],
   "source": [
    "x_values = southern_hemisphere[\"Humidity\"]\n",
    "y_values = southern_hemisphere[\"Lat\"]\n",
    "\n",
    "plt.scatter(x_values,y_values,marker = \"o\", color='b')\n",
    "(slope, intercept, rvalue, pvalue, stderr) = linregress(x_values, y_values)\n",
    "regress_values = x_values * slope + intercept\n",
    "line_eq = \"y = \" + str(round(slope,2)) + \"x + \" + str(round(intercept,2))\n",
    "plt.scatter(x_values,y_values)\n",
    "plt.plot(x_values,regress_values,\"r-\")\n",
    "plt.annotate(line_eq,(6,10),fontsize=15)\n",
    "print(f\"The r-squared is: {rvalue**2}\")\n",
    "\n",
    "plt.xlabel('Latitude')\n",
    "plt.ylabel('Max Temp')\n",
    "plt.show()\n",
    "plt.savefig('scatter_plot8.png', dpi=300)"
   ]
  },
  {
   "cell_type": "markdown",
   "metadata": {},
   "source": [
    "####  Northern Hemisphere - Cloudiness (%) vs. Latitude Linear Regression"
   ]
  },
  {
   "cell_type": "code",
   "execution_count": 21,
   "metadata": {},
   "outputs": [
    {
     "name": "stdout",
     "output_type": "stream",
     "text": [
      "The r-squared is: 0.04258200041152987\n"
     ]
    },
    {
     "data": {
      "image/png": "[encoded data removed]",
      "text/plain": [
       "<Figure size 432x288 with 1 Axes>"
      ]
     },
     "metadata": {
      "needs_background": "light"
     },
     "output_type": "display_data"
    },
    {
     "data": {
      "text/plain": [
       "<Figure size 432x288 with 0 Axes>"
      ]
     },
     "metadata": {},
     "output_type": "display_data"
    }
   ],
   "source": [
    "x_values = northern_hemisphere[\"Cloudiness\"]\n",
    "y_values = northern_hemisphere[\"Lat\"]\n",
    "\n",
    "plt.scatter(x_values,y_values,marker = \"o\", color='b')\n",
    "(slope, intercept, rvalue, pvalue, stderr) = linregress(x_values, y_values)\n",
    "regress_values = x_values * slope + intercept\n",
    "line_eq = \"y = \" + str(round(slope,2)) + \"x + \" + str(round(intercept,2))\n",
    "plt.scatter(x_values,y_values)\n",
    "plt.plot(x_values,regress_values,\"r-\")\n",
    "plt.annotate(line_eq,(6,10),fontsize=15)\n",
    "print(f\"The r-squared is: {rvalue**2}\")\n",
    "\n",
    "plt.xlabel('Latitude')\n",
    "plt.ylabel('Max Temp')\n",
    "plt.show()\n",
    "plt.savefig('scatter_plot9.png', dpi=300)"
   ]
  },
  {
   "cell_type": "markdown",
   "metadata": {},
   "source": [
    "####  Southern Hemisphere - Cloudiness (%) vs. Latitude Linear Regression"
   ]
  },
  {
   "cell_type": "code",
   "execution_count": 22,
   "metadata": {},
   "outputs": [
    {
     "name": "stdout",
     "output_type": "stream",
     "text": [
      "The r-squared is: 0.010502703969890979\n"
     ]
    },
    {
     "data": {
      "image/png": "[encoded data removed]",
      "text/plain": [
       "<Figure size 432x288 with 1 Axes>"
      ]
     },
     "metadata": {
      "needs_background": "light"
     },
     "output_type": "display_data"
    },
    {
     "data": {
      "text/plain": [
       "<Figure size 432x288 with 0 Axes>"
      ]
     },
     "metadata": {},
     "output_type": "display_data"
    }
   ],
   "source": [
    "x_values = southern_hemisphere[\"Cloudiness\"]\n",
    "y_values = southern_hemisphere[\"Lat\"]\n",
    "\n",
    "plt.scatter(x_values,y_values,marker = \"o\", color='b')\n",
    "(slope, intercept, rvalue, pvalue, stderr) = linregress(x_values, y_values)\n",
    "regress_values = x_values * slope + intercept\n",
    "line_eq = \"y = \" + str(round(slope,2)) + \"x + \" + str(round(intercept,2))\n",
    "plt.scatter(x_values,y_values)\n",
    "plt.plot(x_values,regress_values,\"r-\")\n",
    "plt.annotate(line_eq,(6,10),fontsize=15)\n",
    "print(f\"The r-squared is: {rvalue**2}\")\n",
    "\n",
    "plt.xlabel('Latitude')\n",
    "plt.ylabel('Max Temp')\n",
    "plt.show()\n",
    "plt.savefig('scatter_plot10.png', dpi=300)"
   ]
  },
  {
   "cell_type": "markdown",
   "metadata": {},
   "source": [
    "####  Northern Hemisphere - Wind Speed (mph) vs. Latitude Linear Regression"
   ]
  },
  {
   "cell_type": "code",
   "execution_count": 23,
   "metadata": {},
   "outputs": [
    {
     "name": "stdout",
     "output_type": "stream",
     "text": [
      "The r-squared is: 0.04620081301110566\n"
     ]
    },
    {
     "data": {
      "image/png": "[encoded data removed]",
      "text/plain": [
       "<Figure size 432x288 with 1 Axes>"
      ]
     },
     "metadata": {
      "needs_background": "light"
     },
     "output_type": "display_data"
    },
    {
     "data": {
      "text/plain": [
       "<Figure size 432x288 with 0 Axes>"
      ]
     },
     "metadata": {},
     "output_type": "display_data"
    }
   ],
   "source": [
    "x_values = northern_hemisphere[\"Wind Speed\"]\n",
    "y_values = northern_hemisphere[\"Lat\"]\n",
    "\n",
    "plt.scatter(x_values,y_values,marker = \"o\", color='b')\n",
    "(slope, intercept, rvalue, pvalue, stderr) = linregress(x_values, y_values)\n",
    "regress_values = x_values * slope + intercept\n",
    "line_eq = \"y = \" + str(round(slope,2)) + \"x + \" + str(round(intercept,2))\n",
    "plt.scatter(x_values,y_values)\n",
    "plt.plot(x_values,regress_values,\"r-\")\n",
    "plt.annotate(line_eq,(6,10),fontsize=15)\n",
    "print(f\"The r-squared is: {rvalue**2}\")\n",
    "\n",
    "plt.xlabel('Latitude')\n",
    "plt.ylabel('Max Temp')\n",
    "plt.show()\n",
    "plt.savefig('scatter_plot11.png', dpi=300)"
   ]
  },
  {
   "cell_type": "markdown",
   "metadata": {},
   "source": [
    "####  Southern Hemisphere - Wind Speed (mph) vs. Latitude Linear Regression"
   ]
  },
  {
   "cell_type": "code",
   "execution_count": 24,
   "metadata": {},
   "outputs": [
    {
     "name": "stdout",
     "output_type": "stream",
     "text": [
      "The r-squared is: 0.06664269152640258\n"
     ]
    },
    {
     "data": {
      "image/png": "[encoded data removed]",
      "text/plain": [
       "<Figure size 432x288 with 1 Axes>"
      ]
     },
     "metadata": {
      "needs_background": "light"
     },
     "output_type": "display_data"
    },
    {
     "data": {
      "text/plain": [
       "<Figure size 432x288 with 0 Axes>"
      ]
     },
     "metadata": {},
     "output_type": "display_data"
    }
   ],
   "source": [
    "x_values = southern_hemisphere[\"Wind Speed\"]\n",
    "y_values = southern_hemisphere[\"Lat\"]\n",
    "\n",
    "plt.scatter(x_values,y_values,marker = \"o\", color='b')\n",
    "(slope, intercept, rvalue, pvalue, stderr) = linregress(x_values, y_values)\n",
    "regress_values = x_values * slope + intercept\n",
    "line_eq = \"y = \" + str(round(slope,2)) + \"x + \" + str(round(intercept,2))\n",
    "plt.scatter(x_values,y_values)\n",
    "plt.plot(x_values,regress_values,\"r-\")\n",
    "plt.annotate(line_eq,(6,10),fontsize=15)\n",
    "print(f\"The r-squared is: {rvalue**2}\")\n",
    "\n",
    "plt.xlabel('Latitude')\n",
    "plt.ylabel('Max Temp')\n",
    "plt.show()\n",
    "plt.savefig('scatter_plot12.png', dpi=300)"
   ]
  },
  {
   "cell_type": "code",
   "execution_count": null,
   "metadata": {},
   "outputs": [],
   "source": []
  }
 ],
 "metadata": {
  "anaconda-cloud": {},
  "kernel_info": {
   "name": "python3"
  },
  "kernelspec": {
   "display_name": "Python 3",
   "language": "python",
   "name": "python3"
  },
  "language_info": {
   "codemirror_mode": {
    "name": "ipython",
    "version": 3
   },
   "file_extension": ".py",
   "mimetype": "text/x-python",
   "name": "python",
   "nbconvert_exporter": "python",
   "pygments_lexer": "ipython3",
   "version": "3.6.10"
  },
  "latex_envs": {
   "LaTeX_envs_menu_present": true,
   "autoclose": false,
   "autocomplete": true,
   "bibliofile": "biblio.bib",
   "cite_by": "apalike",
   "current_citInitial": 1,
   "eqLabelWithNumbers": true,
   "eqNumInitial": 1,
   "hotkeys": {
    "equation": "Ctrl-E",
    "itemize": "Ctrl-I"
   },
   "labels_anchors": false,
   "latex_user_defs": false,
   "report_style_numbering": false,
   "user_envs_cfg": false
  },
  "nteract": {
   "version": "0.12.3"
  }
 },
 "nbformat": 4,
 "nbformat_minor": 2
}
